{
 "cells": [
  {
   "cell_type": "markdown",
   "id": "8e82be68-de06-43ab-a45a-9e4a2bb99697",
   "metadata": {},
   "source": [
    "# 함수(function)"
   ]
  },
  {
   "cell_type": "code",
   "execution_count": null,
   "id": "b3f2a141-99c6-4f17-9eb3-acc055fd69c0",
   "metadata": {},
   "outputs": [],
   "source": [
    "# 사각형의 가로와 세로의 길이를 이용해서 면적과 둘레를 구하는 코드.\n",
    "height = 50\n",
    "width = 20\n",
    "\n",
    "area = height * width \n",
    "perimeter = (height + width) * 2\n",
    "\n",
    "print(f'사각형의 면적은 {area}이고 둘레는 {perimeter}입니다.')"
   ]
  },
  {
   "cell_type": "code",
   "execution_count": null,
   "id": "26afe155-b7a1-4be3-8517-92836169815c",
   "metadata": {},
   "outputs": [],
   "source": [
    "# 사각형의 가로와 세로의 길이를 이용해서 면적과 둘레를 구하는 코드.\n",
    "height2 = 50\n",
    "width2 = 50\n",
    "\n",
    "area2 = height2 * width2 \n",
    "perimeter2 = (height2 + width2) * 2\n",
    "\n",
    "print(f'사각형의 면적은 {area2}이고 둘레는 {perimeter2}입니다.')"
   ]
  },
  {
   "cell_type": "markdown",
   "id": "8f7d1eb5-832c-40d9-b778-919d628e6a77",
   "metadata": {},
   "source": [
    "## 함수의 선언과 호출\n",
    "- 선언\n",
    "```python\n",
    "def func_name(parameter1, parameter2, ...):\n",
    "    code1\n",
    "    code2\n",
    "    ...\n",
    "    return value\n",
    "```\n",
    "\n",
    "- 호출\n",
    "    - `func_name(parameter1, parameter2, ...)`"
   ]
  },
  {
   "cell_type": "code",
   "execution_count": null,
   "id": "af2e4cf7-1d72-4aa6-92b4-f067a714845b",
   "metadata": {},
   "outputs": [],
   "source": [
    "def rectangle(height, width):\n",
    "    area = height * width\n",
    "    perimeter = (height + width) * 2\n",
    "\n",
    "    print(f'사각형의 면적은 {area}입니다. 둘레는 {perimeter}입니다.')"
   ]
  },
  {
   "cell_type": "code",
   "execution_count": null,
   "id": "724edc4e-ba16-4484-bb2b-aa68e0f2919b",
   "metadata": {},
   "outputs": [],
   "source": [
    "rectangle(50, 30)\n",
    "rectangle(20, 100)"
   ]
  },
  {
   "cell_type": "code",
   "execution_count": null,
   "id": "0d465dce-0df3-441b-b672-fcacb9caf00d",
   "metadata": {},
   "outputs": [],
   "source": [
    "dir(__builtins__)"
   ]
  },
  {
   "cell_type": "code",
   "execution_count": null,
   "id": "43c9859f-da4c-4aa5-876a-86397be24ef0",
   "metadata": {},
   "outputs": [],
   "source": [
    "max(100, 2)"
   ]
  },
  {
   "cell_type": "code",
   "execution_count": null,
   "id": "8bded9c6-9ca7-42d0-8cba-a01e214a57da",
   "metadata": {},
   "outputs": [],
   "source": [
    "def my_max(num1, num2):\n",
    "    if num1 > num2:\n",
    "        print(num1)\n",
    "    elif num1 < num2:\n",
    "        print(num2)\n",
    "    else:\n",
    "        print('같습니다.')"
   ]
  },
  {
   "cell_type": "code",
   "execution_count": null,
   "id": "5e3aa28b-5033-4492-a7ac-20d1c907c338",
   "metadata": {},
   "outputs": [],
   "source": [
    "my_max(1, 2)\n",
    "my_max(5, 2)\n",
    "my_max(5, 5)"
   ]
  },
  {
   "cell_type": "markdown",
   "id": "3011c754-1327-4a93-b48a-e2fb94a15c55",
   "metadata": {},
   "source": [
    "## 함수의 return\n",
    "\n",
    "- 함수가 return을 만나면 해당 값을 반환하고 함수를 종료\n",
    "- 만약 return이 없는 경우 None을 자동으로 반환\n",
    "- return은 오직 하나의 객체만 반환한다."
   ]
  },
  {
   "cell_type": "code",
   "execution_count": null,
   "id": "dc06464f-1efd-46fc-b52b-984ca96082be",
   "metadata": {},
   "outputs": [],
   "source": [
    "result = my_max(1, 2)\n",
    "print(result)"
   ]
  },
  {
   "cell_type": "code",
   "execution_count": null,
   "id": "197bc1b8-d174-4c9c-898e-c0ca4a5e0c33",
   "metadata": {},
   "outputs": [],
   "source": [
    "def my_max2(num1, num2):\n",
    "    if num1 > num2:\n",
    "        return num1\n",
    "    else:\n",
    "        return num2"
   ]
  },
  {
   "cell_type": "code",
   "execution_count": null,
   "id": "348bc843-0e0f-42b8-834d-2cea10e316fd",
   "metadata": {},
   "outputs": [],
   "source": [
    "result = my_max2(1, 2)\n",
    "print(result)"
   ]
  },
  {
   "cell_type": "code",
   "execution_count": null,
   "id": "e2d07e8b-9544-4c21-94e1-e25f749e7cee",
   "metadata": {},
   "outputs": [],
   "source": [
    "def my_for(x):\n",
    "    for i in range(x):\n",
    "        print(i)\n",
    "        if i == 3:\n",
    "            return i\n",
    "\n",
    "            \n",
    "my_for(5)"
   ]
  },
  {
   "cell_type": "code",
   "execution_count": null,
   "id": "b55103fa-a46b-405f-a153-a76f794fbd48",
   "metadata": {},
   "outputs": [],
   "source": [
    "def my_def(x):\n",
    "    return x * 2, x\n",
    "\n",
    "my_def(10)"
   ]
  },
  {
   "cell_type": "code",
   "execution_count": null,
   "id": "0613b853-a840-4dbf-b1a5-479ebff55ec6",
   "metadata": {},
   "outputs": [],
   "source": [
    "# version1 변수 추가할때마다 다시 더해야해서 불편함\n",
    "def my_list_max(list1, list2):\n",
    "    # List1 = [1, 2, 3]\n",
    "    # List2 = [2, 3 ,4]\n",
    "\n",
    "    sum_of_list1 = list1[0] + list1[1] + lsit1[2]\n",
    "    sum_of_list2 = list2[0] + list2[1] + list2[2]\n",
    "\n",
    "    if  sum_of_list > sum_of_list2:\n",
    "        return list1\n",
    "    else:\n",
    "        return list2\n",
    "    "
   ]
  },
  {
   "cell_type": "code",
   "execution_count": null,
   "id": "94a4b3b5-856e-45de-8744-9c23536de5cb",
   "metadata": {},
   "outputs": [],
   "source": [
    "# version2\n",
    "def my_list_max(list1, list2):\n",
    "    sum_of_list1 = 0\n",
    "    sum_of_list2 = 0\n",
    "\n",
    "    for item in list1:\n",
    "        sum_of_list1 = sum_of_list1 + item\n",
    "\n",
    "    for item in list2:\n",
    "        sum_of_list2 += item\n",
    "\n",
    "    if sum_of_list1 > sum_of_list2:\n",
    "        return list1\n",
    "    else:\n",
    "        return list2\n",
    "        "
   ]
  },
  {
   "cell_type": "code",
   "execution_count": null,
   "id": "3889cf43-9d76-43f4-84c2-77ffa0b2645d",
   "metadata": {},
   "outputs": [],
   "source": [
    "# version3\n",
    "def my_list_max(list1, list2):\n",
    "    sum_of_list1 = sum(list1)\n",
    "    sum_of_list2 = sum(list2)\n",
    "\n",
    "    if sum_of_list1 > sum_of_list2:\n",
    "        return list1\n",
    "    else:\n",
    "        return list2"
   ]
  },
  {
   "cell_type": "code",
   "execution_count": null,
   "id": "ab4c5826-3715-4bc7-9df4-90e492f592c4",
   "metadata": {},
   "outputs": [],
   "source": [
    "# version4\n",
    "def my_list_max(list1, list2):\n",
    "    if sum(list1) > sum(list2):\n",
    "        return list1\n",
    "    else:\n",
    "        return list2"
   ]
  },
  {
   "cell_type": "code",
   "execution_count": null,
   "id": "af277962-d9be-46ea-9552-76e390ddfdc3",
   "metadata": {},
   "outputs": [],
   "source": [
    "my_list_max([1, 2, 3], [2, 3, 4])\n",
    "# => [2, 3, 4]"
   ]
  },
  {
   "cell_type": "markdown",
   "id": "93b336ea-809f-48a3-8594-16fac27d5b65",
   "metadata": {},
   "source": [
    "### 함수의 인수"
   ]
  },
  {
   "cell_type": "markdown",
   "id": "a5feb37f-988c-41dd-a6b1-9c64d9156349",
   "metadata": {},
   "source": [
    "#### 위치인수\n",
    "- 기본적으로 함수는 위치를 기준으로 인수를 판단합니다."
   ]
  },
  {
   "cell_type": "code",
   "execution_count": null,
   "id": "3dbaa96e-3a98-47fb-a8f0-b638b14c5309",
   "metadata": {},
   "outputs": [],
   "source": [
    "def cylinder(r, h):\n",
    "    return 3.14 * r** 2 * h"
   ]
  },
  {
   "cell_type": "code",
   "execution_count": null,
   "id": "b1510aa2-87f0-4e73-a96d-56b1b6ed5e92",
   "metadata": {},
   "outputs": [],
   "source": [
    "cylinder(3, 10)"
   ]
  },
  {
   "cell_type": "code",
   "execution_count": null,
   "id": "ecba644b-d9bb-4910-b3a8-d3c249c30a9d",
   "metadata": {},
   "outputs": [],
   "source": [
    "cylinder(10, 3)"
   ]
  },
  {
   "cell_type": "markdown",
   "id": "dbcb315a-663b-472a-bfbe-f7feb66cd7ba",
   "metadata": {},
   "source": [
    "#### 기본값\n",
    "```python\n",
    "def func_name(p1=v1):\n",
    "    code1\n",
    "    return value\n",
    "```"
   ]
  },
  {
   "cell_type": "code",
   "execution_count": null,
   "id": "a1480fbe-21dc-4b33-9d41-cbd21d7d8dfc",
   "metadata": {},
   "outputs": [],
   "source": [
    "def greeting(name='익명'):\n",
    "    return f'{name}님 반갑습니다.'"
   ]
  },
  {
   "cell_type": "code",
   "execution_count": null,
   "id": "769fb20e-4c5f-4b60-97a4-1ca9dd8a4eac",
   "metadata": {},
   "outputs": [],
   "source": [
    "greeting()"
   ]
  },
  {
   "cell_type": "code",
   "execution_count": null,
   "id": "aa3f12ce-2fb9-44ac-9bc4-3d0ae52ea5fc",
   "metadata": {},
   "outputs": [],
   "source": [
    "print('안녕하세요', '반갑습니다', sep='#', end='!!!\\n')\n",
    "print('저는 홍길동입니다')"
   ]
  },
  {
   "cell_type": "code",
   "execution_count": null,
   "id": "8f512855-deae-4cb4-8437-76668f4ebd73",
   "metadata": {},
   "outputs": [],
   "source": [
    "def greeting(name='익명', age):\n",
    "    return f'{name}님의 나이는 {age}살입니다.'"
   ]
  },
  {
   "cell_type": "code",
   "execution_count": null,
   "id": "2cd06ed6-ce82-4137-b009-b1d6921e654e",
   "metadata": {},
   "outputs": [],
   "source": [
    "def greeting(age, name='익명'):\n",
    "    return f'{name}님의 나이는 {age}살입니다.'"
   ]
  },
  {
   "cell_type": "code",
   "execution_count": null,
   "id": "305d2c30-0e81-4f4d-b2b8-23d0e9265d03",
   "metadata": {},
   "outputs": [],
   "source": [
    "greeting('길동', 10)\n",
    "greeting(10)"
   ]
  },
  {
   "cell_type": "markdown",
   "id": "5247900e-87f1-40d3-be90-dbfd3b8b2402",
   "metadata": {},
   "source": [
    "#### 키워드 인수\n",
    "- 함수를 호출(실행)할 때 내가 원하는 위치에 직접적으로 값을 전달"
   ]
  },
  {
   "cell_type": "code",
   "execution_count": null,
   "id": "2d2f232e-6277-421f-a1d8-d4f1f227ea26",
   "metadata": {},
   "outputs": [],
   "source": [
    "def greeting(age, name='익명'):\n",
    "    return f'{name}님은 {age}살입니다.'"
   ]
  },
  {
   "cell_type": "code",
   "execution_count": null,
   "id": "f338351c-8a43-42bc-9872-b0d90b047a10",
   "metadata": {},
   "outputs": [],
   "source": [
    "greeting(10, '길동')\n",
    "greeting(10)\n",
    "greeting(name='길동', age=10)"
   ]
  },
  {
   "cell_type": "markdown",
   "id": "1ecb40c2-849a-41b2-a8c3-304a6354d456",
   "metadata": {},
   "source": [
    "#### 가변인자 리스트\n",
    "```python\n",
    "def func_name(*parms):\n",
    "    code\n",
    "    ...\n",
    "    return value\n",
    "\n",
    "```"
   ]
  },
  {
   "cell_type": "code",
   "execution_count": null,
   "id": "a8dfb4df-3d18-48de-9169-0666f48a8f2d",
   "metadata": {},
   "outputs": [],
   "source": [
    "print('1', '2', 'adf')"
   ]
  },
  {
   "cell_type": "code",
   "execution_count": null,
   "id": "f18e1e14-e837-40a4-bf5d-8590e4597dd5",
   "metadata": {},
   "outputs": [],
   "source": [
    "def my_print(*words):\n",
    "    print(words)"
   ]
  },
  {
   "cell_type": "code",
   "execution_count": null,
   "id": "1712aac4-c78f-4d92-92e6-7f65ad3b3d5c",
   "metadata": {},
   "outputs": [],
   "source": [
    "my_print('my', 'name', 'is')"
   ]
  },
  {
   "cell_type": "code",
   "execution_count": null,
   "id": "b99e1556-5f9d-440d-a658-14702043c31f",
   "metadata": {},
   "outputs": [],
   "source": [
    "max(1, 2, 3, 4, 5)"
   ]
  },
  {
   "cell_type": "code",
   "execution_count": 6,
   "id": "d1d5247a-26e1-41b6-8719-2bc53bedd02b",
   "metadata": {},
   "outputs": [],
   "source": [
    "def my_max(*numbers):\n",
    "    # max_num = 0\n",
    "    max_num = numbers[0]\n",
    "    for number in numbers:\n",
    "        if max_num < number:\n",
    "            max_num = number\n",
    "\n",
    "    return max_num"
   ]
  },
  {
   "cell_type": "code",
   "execution_count": 7,
   "id": "0c5c06ac-f185-4cd5-a76e-abf5f8855698",
   "metadata": {},
   "outputs": [
    {
     "data": {
      "text/plain": [
       "7"
      ]
     },
     "execution_count": 7,
     "metadata": {},
     "output_type": "execute_result"
    }
   ],
   "source": [
    "my_max(1, 2, 3, 4, 5, 6, 7)"
   ]
  },
  {
   "cell_type": "code",
   "execution_count": 9,
   "id": "807e1f7d-1d67-4c38-962a-97ea743f989d",
   "metadata": {},
   "outputs": [
    {
     "data": {
      "text/plain": [
       "-1"
      ]
     },
     "execution_count": 9,
     "metadata": {},
     "output_type": "execute_result"
    }
   ],
   "source": [
    "# max_num = 0 으로 설정했을경우 0이 나오는데 그 이유는 기준점이 이미 제시된 값보다 크기때문에 \n",
    "my_max(-1, -2, -3, -4)"
   ]
  }
 ],
 "metadata": {
  "kernelspec": {
   "display_name": "Python 3 (ipykernel)",
   "language": "python",
   "name": "python3"
  },
  "language_info": {
   "codemirror_mode": {
    "name": "ipython",
    "version": 3
   },
   "file_extension": ".py",
   "mimetype": "text/x-python",
   "name": "python",
   "nbconvert_exporter": "python",
   "pygments_lexer": "ipython3",
   "version": "3.13.2"
  }
 },
 "nbformat": 4,
 "nbformat_minor": 5
}
