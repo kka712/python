{
 "cells": [
  {
   "cell_type": "markdown",
   "id": "8e82be68-de06-43ab-a45a-9e4a2bb99697",
   "metadata": {},
   "source": [
    "# 함수(function)"
   ]
  },
  {
   "cell_type": "code",
   "execution_count": null,
   "id": "b3f2a141-99c6-4f17-9eb3-acc055fd69c0",
   "metadata": {},
   "outputs": [],
   "source": [
    "# 사각형의 가로와 세로의 길이를 이용해서 면적과 둘레를 구하는 코드.\n",
    "height = 50\n",
    "width = 20\n",
    "\n",
    "area = height * width \n",
    "perimeter = (height + width) * 2\n",
    "\n",
    "print(f'사각형의 면적은 {area}이고 둘레는 {perimeter}입니다.')"
   ]
  },
  {
   "cell_type": "code",
   "execution_count": null,
   "id": "26afe155-b7a1-4be3-8517-92836169815c",
   "metadata": {},
   "outputs": [],
   "source": [
    "# 사각형의 가로와 세로의 길이를 이용해서 면적과 둘레를 구하는 코드.\n",
    "height2 = 50\n",
    "width2 = 50\n",
    "\n",
    "area2 = height2 * width2 \n",
    "perimeter2 = (height2 + width2) * 2\n",
    "\n",
    "print(f'사각형의 면적은 {area2}이고 둘레는 {perimeter2}입니다.')"
   ]
  },
  {
   "cell_type": "markdown",
   "id": "8f7d1eb5-832c-40d9-b778-919d628e6a77",
   "metadata": {},
   "source": [
    "## 함수의 선언과 호출\n",
    "- 선언\n",
    "```python\n",
    "def func_name(parameter1, parameter2, ...):\n",
    "    code1\n",
    "    code2\n",
    "    ...\n",
    "    return value\n",
    "```\n",
    "\n",
    "- 호출\n",
    "    - `func_name(parameter1, parameter2, ...)`"
   ]
  },
  {
   "cell_type": "code",
   "execution_count": null,
   "id": "af2e4cf7-1d72-4aa6-92b4-f067a714845b",
   "metadata": {},
   "outputs": [],
   "source": [
    "def rectangle(height, width):\n",
    "    area = height * width\n",
    "    perimeter = (height + width) * 2\n",
    "\n",
    "    print(f'사각형의 면적은 {area}입니다. 둘레는 {perimeter}입니다.')"
   ]
  },
  {
   "cell_type": "code",
   "execution_count": null,
   "id": "724edc4e-ba16-4484-bb2b-aa68e0f2919b",
   "metadata": {},
   "outputs": [],
   "source": [
    "rectangle(50, 30)\n",
    "rectangle(20, 100)"
   ]
  },
  {
   "cell_type": "code",
   "execution_count": null,
   "id": "0d465dce-0df3-441b-b672-fcacb9caf00d",
   "metadata": {},
   "outputs": [],
   "source": [
    "dir(__builtins__)"
   ]
  },
  {
   "cell_type": "code",
   "execution_count": null,
   "id": "43c9859f-da4c-4aa5-876a-86397be24ef0",
   "metadata": {},
   "outputs": [],
   "source": [
    "max(100, 2)"
   ]
  },
  {
   "cell_type": "code",
   "execution_count": null,
   "id": "8bded9c6-9ca7-42d0-8cba-a01e214a57da",
   "metadata": {},
   "outputs": [],
   "source": [
    "def my_max(num1, num2):\n",
    "    if num1 > num2:\n",
    "        print(num1)\n",
    "    elif num1 < num2:\n",
    "        print(num2)\n",
    "    else:\n",
    "        print('같습니다.')"
   ]
  },
  {
   "cell_type": "code",
   "execution_count": null,
   "id": "5e3aa28b-5033-4492-a7ac-20d1c907c338",
   "metadata": {},
   "outputs": [],
   "source": [
    "my_max(1, 2)\n",
    "my_max(5, 2)\n",
    "my_max(5, 5)"
   ]
  },
  {
   "cell_type": "markdown",
   "id": "3011c754-1327-4a93-b48a-e2fb94a15c55",
   "metadata": {},
   "source": [
    "## 함수의 return\n",
    "\n",
    "- 함수가 return을 만나면 해당 값을 반환하고 함수를 종료\n",
    "- 만약 return이 없는 경우 None을 자동으로 반환\n",
    "- return은 오직 하나의 객체만 반환한다."
   ]
  },
  {
   "cell_type": "code",
   "execution_count": null,
   "id": "dc06464f-1efd-46fc-b52b-984ca96082be",
   "metadata": {},
   "outputs": [],
   "source": [
    "result = my_max(1, 2)\n",
    "print(result)"
   ]
  },
  {
   "cell_type": "code",
   "execution_count": null,
   "id": "197bc1b8-d174-4c9c-898e-c0ca4a5e0c33",
   "metadata": {},
   "outputs": [],
   "source": [
    "def my_max2(num1, num2):\n",
    "    if num1 > num2:\n",
    "        return num1\n",
    "    else:\n",
    "        return num2"
   ]
  },
  {
   "cell_type": "code",
   "execution_count": null,
   "id": "348bc843-0e0f-42b8-834d-2cea10e316fd",
   "metadata": {},
   "outputs": [],
   "source": [
    "result = my_max2(1, 2)\n",
    "print(result)"
   ]
  },
  {
   "cell_type": "code",
   "execution_count": null,
   "id": "e2d07e8b-9544-4c21-94e1-e25f749e7cee",
   "metadata": {},
   "outputs": [],
   "source": [
    "def my_for(x):\n",
    "    for i in range(x):\n",
    "        print(i)\n",
    "        if i == 3:\n",
    "            return i\n",
    "\n",
    "            \n",
    "my_for(5)"
   ]
  },
  {
   "cell_type": "code",
   "execution_count": null,
   "id": "b55103fa-a46b-405f-a153-a76f794fbd48",
   "metadata": {},
   "outputs": [],
   "source": [
    "def my_def(x):\n",
    "    return x * 2, x\n",
    "\n",
    "my_def(10)"
   ]
  },
  {
   "cell_type": "code",
   "execution_count": null,
   "id": "0613b853-a840-4dbf-b1a5-479ebff55ec6",
   "metadata": {},
   "outputs": [],
   "source": [
    "# version1 변수 추가할때마다 다시 더해야해서 불편함\n",
    "def my_list_max(list1, list2):\n",
    "    # List1 = [1, 2, 3]\n",
    "    # List2 = [2, 3 ,4]\n",
    "\n",
    "    sum_of_list1 = list1[0] + list1[1] + lsit1[2]\n",
    "    sum_of_list2 = list2[0] + list2[1] + list2[2]\n",
    "\n",
    "    if  sum_of_list > sum_of_list2:\n",
    "        return list1\n",
    "    else:\n",
    "        return list2\n",
    "    "
   ]
  },
  {
   "cell_type": "code",
   "execution_count": null,
   "id": "94a4b3b5-856e-45de-8744-9c23536de5cb",
   "metadata": {},
   "outputs": [],
   "source": [
    "# version2\n",
    "def my_list_max(list1, list2):\n",
    "    sum_of_list1 = 0\n",
    "    sum_of_list2 = 0\n",
    "\n",
    "    for item in list1:\n",
    "        sum_of_list1 = sum_of_list1 + item\n",
    "\n",
    "    for item in list2:\n",
    "        sum_of_list2 += item\n",
    "\n",
    "    if sum_of_list1 > sum_of_list2:\n",
    "        return list1\n",
    "    else:\n",
    "        return list2\n",
    "        "
   ]
  },
  {
   "cell_type": "code",
   "execution_count": null,
   "id": "3889cf43-9d76-43f4-84c2-77ffa0b2645d",
   "metadata": {},
   "outputs": [],
   "source": [
    "# version3\n",
    "def my_list_max(list1, list2):\n",
    "    sum_of_list1 = sum(list1)\n",
    "    sum_of_list2 = sum(list2)\n",
    "\n",
    "    if sum_of_list1 > sum_of_list2:\n",
    "        return list1\n",
    "    else:\n",
    "        return list2"
   ]
  },
  {
   "cell_type": "code",
   "execution_count": null,
   "id": "ab4c5826-3715-4bc7-9df4-90e492f592c4",
   "metadata": {},
   "outputs": [],
   "source": [
    "# version4\n",
    "def my_list_max(list1, list2):\n",
    "    if sum(list1) > sum(list2):\n",
    "        return list1\n",
    "    else:\n",
    "        return list2"
   ]
  },
  {
   "cell_type": "code",
   "execution_count": null,
   "id": "af277962-d9be-46ea-9552-76e390ddfdc3",
   "metadata": {},
   "outputs": [],
   "source": [
    "my_list_max([1, 2, 3], [2, 3, 4])\n",
    "# => [2, 3, 4]"
   ]
  },
  {
   "cell_type": "markdown",
   "id": "93b336ea-809f-48a3-8594-16fac27d5b65",
   "metadata": {},
   "source": [
    "### 함수의 인수"
   ]
  },
  {
   "cell_type": "markdown",
   "id": "a5feb37f-988c-41dd-a6b1-9c64d9156349",
   "metadata": {},
   "source": [
    "#### 위치인수\n",
    "- 기본적으로 함수는 위치를 기준으로 인수를 판단합니다."
   ]
  },
  {
   "cell_type": "code",
   "execution_count": null,
   "id": "3dbaa96e-3a98-47fb-a8f0-b638b14c5309",
   "metadata": {},
   "outputs": [],
   "source": [
    "def cylinder(r, h):\n",
    "    return 3.14 * r** 2 * h"
   ]
  },
  {
   "cell_type": "code",
   "execution_count": null,
   "id": "b1510aa2-87f0-4e73-a96d-56b1b6ed5e92",
   "metadata": {},
   "outputs": [],
   "source": [
    "cylinder(3, 10)"
   ]
  },
  {
   "cell_type": "code",
   "execution_count": null,
   "id": "ecba644b-d9bb-4910-b3a8-d3c249c30a9d",
   "metadata": {},
   "outputs": [],
   "source": [
    "cylinder(10, 3)"
   ]
  },
  {
   "cell_type": "markdown",
   "id": "dbcb315a-663b-472a-bfbe-f7feb66cd7ba",
   "metadata": {},
   "source": [
    "#### 기본값\n",
    "```python\n",
    "def func_name(p1=v1):\n",
    "    code1\n",
    "    return value\n",
    "```"
   ]
  },
  {
   "cell_type": "code",
   "execution_count": null,
   "id": "a1480fbe-21dc-4b33-9d41-cbd21d7d8dfc",
   "metadata": {},
   "outputs": [],
   "source": [
    "def greeting(name='익명'):\n",
    "    return f'{name}님 반갑습니다.'"
   ]
  },
  {
   "cell_type": "code",
   "execution_count": null,
   "id": "769fb20e-4c5f-4b60-97a4-1ca9dd8a4eac",
   "metadata": {},
   "outputs": [],
   "source": [
    "greeting()"
   ]
  },
  {
   "cell_type": "code",
   "execution_count": null,
   "id": "aa3f12ce-2fb9-44ac-9bc4-3d0ae52ea5fc",
   "metadata": {},
   "outputs": [],
   "source": [
    "print('안녕하세요', '반갑습니다', sep='#', end='!!!\\n')\n",
    "print('저는 홍길동입니다')"
   ]
  },
  {
   "cell_type": "code",
   "execution_count": null,
   "id": "8f512855-deae-4cb4-8437-76668f4ebd73",
   "metadata": {},
   "outputs": [],
   "source": [
    "def greeting(name='익명', age):\n",
    "    return f'{name}님의 나이는 {age}살입니다.'"
   ]
  },
  {
   "cell_type": "code",
   "execution_count": null,
   "id": "2cd06ed6-ce82-4137-b009-b1d6921e654e",
   "metadata": {},
   "outputs": [],
   "source": [
    "def greeting(age, name='익명'):\n",
    "    return f'{name}님의 나이는 {age}살입니다.'"
   ]
  },
  {
   "cell_type": "code",
   "execution_count": null,
   "id": "305d2c30-0e81-4f4d-b2b8-23d0e9265d03",
   "metadata": {},
   "outputs": [],
   "source": [
    "greeting('길동', 10)\n",
    "greeting(10)"
   ]
  },
  {
   "cell_type": "markdown",
   "id": "5247900e-87f1-40d3-be90-dbfd3b8b2402",
   "metadata": {},
   "source": [
    "#### 키워드 인수\n",
    "- 함수를 호출(실행)할 때 내가 원하는 위치에 직접적으로 값을 전달"
   ]
  },
  {
   "cell_type": "code",
   "execution_count": null,
   "id": "2d2f232e-6277-421f-a1d8-d4f1f227ea26",
   "metadata": {},
   "outputs": [],
   "source": [
    "def greeting(age, name='익명'):\n",
    "    return f'{name}님은 {age}살입니다.'"
   ]
  },
  {
   "cell_type": "code",
   "execution_count": null,
   "id": "f338351c-8a43-42bc-9872-b0d90b047a10",
   "metadata": {},
   "outputs": [],
   "source": [
    "greeting(10, '길동')\n",
    "greeting(10)\n",
    "greeting(name='길동', age=10)"
   ]
  },
  {
   "cell_type": "markdown",
   "id": "1ecb40c2-849a-41b2-a8c3-304a6354d456",
   "metadata": {},
   "source": [
    "#### 가변인자 리스트\n",
    "```python\n",
    "def func_name(*parms):\n",
    "    code\n",
    "    ...\n",
    "    return value\n",
    "\n",
    "```"
   ]
  },
  {
   "cell_type": "code",
   "execution_count": null,
   "id": "a8dfb4df-3d18-48de-9169-0666f48a8f2d",
   "metadata": {},
   "outputs": [],
   "source": [
    "print('1', '2', 'adf')"
   ]
  },
  {
   "cell_type": "code",
   "execution_count": null,
   "id": "f18e1e14-e837-40a4-bf5d-8590e4597dd5",
   "metadata": {},
   "outputs": [],
   "source": [
    "def my_print(*words):\n",
    "    print(words)"
   ]
  },
  {
   "cell_type": "code",
   "execution_count": null,
   "id": "1712aac4-c78f-4d92-92e6-7f65ad3b3d5c",
   "metadata": {},
   "outputs": [],
   "source": [
    "my_print('my', 'name', 'is')"
   ]
  },
  {
   "cell_type": "code",
   "execution_count": null,
   "id": "b99e1556-5f9d-440d-a658-14702043c31f",
   "metadata": {},
   "outputs": [],
   "source": [
    "max(1, 2, 3, 4, 5)"
   ]
  },
  {
   "cell_type": "code",
   "execution_count": 6,
   "id": "d1d5247a-26e1-41b6-8719-2bc53bedd02b",
   "metadata": {},
   "outputs": [],
   "source": [
    "def my_max(*numbers):\n",
    "    # max_num = 0\n",
    "    max_num = numbers[0]\n",
    "    for number in numbers:\n",
    "        if max_num < number:\n",
    "            max_num = number\n",
    "\n",
    "    return max_num"
   ]
  },
  {
   "cell_type": "code",
   "execution_count": 7,
   "id": "0c5c06ac-f185-4cd5-a76e-abf5f8855698",
   "metadata": {},
   "outputs": [
    {
     "data": {
      "text/plain": [
       "7"
      ]
     },
     "execution_count": 7,
     "metadata": {},
     "output_type": "execute_result"
    }
   ],
   "source": [
    "my_max(1, 2, 3, 4, 5, 6, 7)"
   ]
  },
  {
   "cell_type": "code",
   "execution_count": 9,
   "id": "807e1f7d-1d67-4c38-962a-97ea743f989d",
   "metadata": {},
   "outputs": [
    {
     "data": {
      "text/plain": [
       "-1"
      ]
     },
     "execution_count": 9,
     "metadata": {},
     "output_type": "execute_result"
    }
   ],
   "source": [
    "# max_num = 0 으로 설정했을경우 0이 나오는데 그 이유는 기준점이 이미 제시된 값보다 크기때문에 \n",
    "my_max(-1, -2, -3, -4)"
   ]
  },
  {
   "cell_type": "markdown",
   "id": "e7c26d88-72b9-4927-9e76-528c16f2a53e",
   "metadata": {},
   "source": [
    "### 정의되지 않은 키워드 인자 처리하기\n",
    "```python\n",
    "def func_name(**kwargs):\n",
    "    return value\n",
    "\n",
    "```"
   ]
  },
  {
   "cell_type": "code",
   "execution_count": 1,
   "id": "ffe1c27b-4d82-41a0-aa11-14bb272c8f19",
   "metadata": {},
   "outputs": [
    {
     "name": "stdout",
     "output_type": "stream",
     "text": [
      "{'name': 'hong', 'age': 10}\n"
     ]
    }
   ],
   "source": [
    "info = {\n",
    "    'name' : 'hong',\n",
    "    'age' : 10,\n",
    "}\n",
    "print(info)"
   ]
  },
  {
   "cell_type": "code",
   "execution_count": 2,
   "id": "f7561c8b-6152-4d83-a746-20b8188d8093",
   "metadata": {},
   "outputs": [
    {
     "name": "stdout",
     "output_type": "stream",
     "text": [
      "{'name': 'kim', 'age': 20}\n"
     ]
    }
   ],
   "source": [
    "info = dict(name='kim', age=20)\n",
    "print(info)"
   ]
  },
  {
   "cell_type": "code",
   "execution_count": 3,
   "id": "43e3c736-2297-45aa-984f-a70c632ef0b7",
   "metadata": {},
   "outputs": [
    {
     "name": "stdout",
     "output_type": "stream",
     "text": [
      "{'asdf': '가나다', 'age': 123, 'test': 'adsf'}\n"
     ]
    }
   ],
   "source": [
    "def my_dict(**kwargs):\n",
    "    print(kwargs)\n",
    "\n",
    "my_dict(asdf='가나다', age=123, test='adsf')"
   ]
  },
  {
   "cell_type": "code",
   "execution_count": 4,
   "id": "247c28e2-fb06-4148-add9-a3d2afe2b359",
   "metadata": {},
   "outputs": [],
   "source": [
    "def my_func(params1, params2='temp', *numbers, **kwargs):\n",
    "    return 0"
   ]
  },
  {
   "cell_type": "code",
   "execution_count": 6,
   "id": "e925bea5-f972-4e43-a04c-661cda54750b",
   "metadata": {},
   "outputs": [
    {
     "data": {
      "text/plain": [
       "0"
      ]
     },
     "execution_count": 6,
     "metadata": {},
     "output_type": "execute_result"
    }
   ],
   "source": [
    "# my_func() => params1 부족하므로 실행안됨\n",
    "my_func(123)\n",
    "# => params1 = 123, params2 = 'temp'\n",
    "my_func(123, 234)\n",
    "# => params1 = 123, params2 = 234\n",
    "my_func(123, 234, 345, 567, 789, 890)\n",
    "# => params1 = 123, params2 = 234, numbers = (345, 567, 789, 890)\n",
    "my_func(123, 234, 345, 567, 789, 890, a=1, b=2, c=3)\n",
    "# kwargs = {a: 1, b: 2, c: 3}"
   ]
  },
  {
   "cell_type": "markdown",
   "id": "944dca1d-a130-463a-baad-943d07526959",
   "metadata": {},
   "source": [
    "### lambda 표현식 (임시함수, 익명함수)\n",
    "```python\n",
    "lambda parameter: expression\n",
    "```"
   ]
  },
  {
   "cell_type": "code",
   "execution_count": 9,
   "id": "e844a30a-84f3-4f9c-8f78-2040b734297f",
   "metadata": {},
   "outputs": [],
   "source": [
    "def my_sum(num1, num2):\n",
    "    return num1 + num2"
   ]
  },
  {
   "cell_type": "code",
   "execution_count": 10,
   "id": "0dc4c303-951e-416b-9752-ed33782aaf90",
   "metadata": {},
   "outputs": [
    {
     "data": {
      "text/plain": [
       "3"
      ]
     },
     "execution_count": 10,
     "metadata": {},
     "output_type": "execute_result"
    }
   ],
   "source": [
    "my_sum(1, 2)"
   ]
  },
  {
   "cell_type": "code",
   "execution_count": 14,
   "id": "7e11e7e9-ed82-40e3-91e4-3a1f8b6a5260",
   "metadata": {},
   "outputs": [
    {
     "data": {
      "text/plain": [
       "3"
      ]
     },
     "execution_count": 14,
     "metadata": {},
     "output_type": "execute_result"
    }
   ],
   "source": [
    "(lambda num1, num2: num1 + num2)(1, 2)\n",
    "# my_sum, return 생략됨\n",
    "# lambda 함수의 장점은 빠르다(메모리에 올라가지않고 실행하면 실행 뒤 휘발됨)"
   ]
  },
  {
   "cell_type": "markdown",
   "id": "05af1b75-4cdc-4e4c-942d-6ebe0d89fcd0",
   "metadata": {},
   "source": [
    "### 타입힌트"
   ]
  },
  {
   "cell_type": "code",
   "execution_count": 15,
   "id": "45c18904-c5a1-455d-b0ab-a31a89d0d121",
   "metadata": {},
   "outputs": [
    {
     "data": {
      "text/plain": [
       "3"
      ]
     },
     "execution_count": 15,
     "metadata": {},
     "output_type": "execute_result"
    }
   ],
   "source": [
    "def something(a: int, b: int) -> int:\n",
    "    return a + b\n",
    "\n",
    "something(1, 2)"
   ]
  },
  {
   "cell_type": "code",
   "execution_count": 16,
   "id": "48f2db84-c9a5-4b0a-b673-34a96ac49935",
   "metadata": {},
   "outputs": [
    {
     "data": {
      "text/plain": [
       "'asdfqwqer'"
      ]
     },
     "execution_count": 16,
     "metadata": {},
     "output_type": "execute_result"
    }
   ],
   "source": [
    "something('asdf', 'qwqer')"
   ]
  },
  {
   "cell_type": "markdown",
   "id": "4df72439-19e3-4ff3-8c3b-c50ff61ca64d",
   "metadata": {},
   "source": [
    "### 이름공간(namespace), 스코프(scope)\n",
    "python에서 사용하는 이름들은 이름공간에 저장되어있습니다. LEGB 룰에 따라 접근\n",
    "\n",
    "1. Local : 정의된 함수 내부\n",
    "2. Enclosed : 상위 함수\n",
    "3. Global : 함수 밖\n",
    "4. Built-in : python이 기본적으로 가지고 있는 함수\n"
   ]
  },
  {
   "cell_type": "code",
   "execution_count": 19,
   "id": "cffc49fd-248f-4b4e-98b8-a4b609bc1a1e",
   "metadata": {},
   "outputs": [
    {
     "name": "stdout",
     "output_type": "stream",
     "text": [
      "123\n"
     ]
    }
   ],
   "source": [
    "result = str(123)\n",
    "print(result)"
   ]
  },
  {
   "cell_type": "code",
   "execution_count": 26,
   "id": "589b14f8-ea13-436d-af15-8c11433b6f3a",
   "metadata": {},
   "outputs": [],
   "source": [
    "str = 'hello'"
   ]
  },
  {
   "cell_type": "code",
   "execution_count": 27,
   "id": "7a998bb1-a1c8-4724-a32d-f3e8ad5747d0",
   "metadata": {},
   "outputs": [
    {
     "ename": "TypeError",
     "evalue": "'str' object is not callable",
     "output_type": "error",
     "traceback": [
      "\u001b[1;31m---------------------------------------------------------------------------\u001b[0m",
      "\u001b[1;31mTypeError\u001b[0m                                 Traceback (most recent call last)",
      "Cell \u001b[1;32mIn[27], line 1\u001b[0m\n\u001b[1;32m----> 1\u001b[0m result \u001b[38;5;241m=\u001b[39m \u001b[38;5;28;43mstr\u001b[39;49m\u001b[43m(\u001b[49m\u001b[38;5;241;43m123\u001b[39;49m\u001b[43m)\u001b[49m\n\u001b[0;32m      2\u001b[0m \u001b[38;5;28mprint\u001b[39m(result)\n",
      "\u001b[1;31mTypeError\u001b[0m: 'str' object is not callable"
     ]
    }
   ],
   "source": [
    "result = str(123)\n",
    "print(result)"
   ]
  },
  {
   "cell_type": "code",
   "execution_count": 28,
   "id": "44cce57e-02f6-4e5a-bde2-13eeb0573129",
   "metadata": {},
   "outputs": [],
   "source": [
    "del str"
   ]
  },
  {
   "cell_type": "code",
   "execution_count": 31,
   "id": "36e50484-5196-4fd1-ad99-adda65faef4f",
   "metadata": {},
   "outputs": [
    {
     "data": {
      "text/plain": [
       "'asdf'"
      ]
     },
     "execution_count": 31,
     "metadata": {},
     "output_type": "execute_result"
    }
   ],
   "source": [
    "a = 1\n",
    "\n",
    "def local_scope(a):\n",
    "    return a\n",
    "\n",
    "a = '가나다라'\n",
    "\n",
    "local_scope('asdf')"
   ]
  },
  {
   "cell_type": "code",
   "execution_count": 32,
   "id": "373d2636-0a7c-4b22-89bd-1179fd67770f",
   "metadata": {},
   "outputs": [
    {
     "data": {
      "text/plain": [
       "'가나다라'"
      ]
     },
     "execution_count": 32,
     "metadata": {},
     "output_type": "execute_result"
    }
   ],
   "source": [
    "a = 1\n",
    "\n",
    "def local_scope(b):\n",
    "    return a\n",
    "\n",
    "a = '가나다라'\n",
    "\n",
    "local_scope('asdf')"
   ]
  },
  {
   "cell_type": "code",
   "execution_count": 38,
   "id": "13fc7ca0-1c3e-452e-b61e-a389aea28039",
   "metadata": {},
   "outputs": [
    {
     "name": "stdout",
     "output_type": "stream",
     "text": [
      "[1, 2, 3, 4, 5]\n",
      "[1, 2, 3, 4, 5]\n",
      "[1, 2, 3, 4, 5]\n",
      "[1, 2, 3, 4, 5]\n",
      "[1, 2, 3, 4, 5]\n"
     ]
    }
   ],
   "source": [
    "my_list = [1, 2, 3, 4, 5]\n",
    "for i in my_list:\n",
    "    print(my_list)"
   ]
  },
  {
   "cell_type": "code",
   "execution_count": 40,
   "id": "774f106f-bc88-4d3a-88cd-5a70ec0fee16",
   "metadata": {},
   "outputs": [
    {
     "name": "stdout",
     "output_type": "stream",
     "text": [
      "1\n",
      "2\n",
      "3\n",
      "4\n",
      "5\n"
     ]
    }
   ],
   "source": [
    "my_list = [1, 2, 3, 4, 5]\n",
    "for i in my_list:\n",
    "    print(i)"
   ]
  },
  {
   "cell_type": "code",
   "execution_count": 42,
   "id": "1e0d97a2-a8cb-4bd4-9594-45f83f887b34",
   "metadata": {},
   "outputs": [
    {
     "name": "stdout",
     "output_type": "stream",
     "text": [
      "1\n",
      "2\n",
      "3\n",
      "4\n",
      "5\n",
      "5\n"
     ]
    }
   ],
   "source": [
    "my_list = [1, 2, 3, 4, 5]\n",
    "for i in my_list:\n",
    "    print(i)\n",
    "print(i)"
   ]
  },
  {
   "cell_type": "code",
   "execution_count": 43,
   "id": "1844a14b-858e-449e-9fbf-565840564333",
   "metadata": {},
   "outputs": [
    {
     "data": {
      "text/plain": [
       "1"
      ]
     },
     "execution_count": 43,
     "metadata": {},
     "output_type": "execute_result"
    }
   ],
   "source": [
    "a = 0\n",
    "\n",
    "def global_scope():\n",
    "    global a\n",
    "    a = a + 1\n",
    "    return a\n",
    "\n",
    "global_scope()"
   ]
  },
  {
   "cell_type": "markdown",
   "id": "803800ac-7d68-4216-b91f-fcfaad3703cc",
   "metadata": {},
   "source": [
    "### 재귀\n",
    "함수 내부에서 자기 자신을 호출하는 함수\n",
    "\n",
    "```\n",
    "n! = 1 * 2 * 3 * ... * n\n",
    "\n",
    "1! = 1\n",
    "2! = 1 * 2 = 1! * 2\n",
    "3! = 1 * 2 * 3 = 2! * 3\n",
    "n! = (n-1)! * n\n",
    "```"
   ]
  },
  {
   "cell_type": "code",
   "execution_count": 45,
   "id": "539dbd00-283a-4cc2-b80b-45ba483374c2",
   "metadata": {},
   "outputs": [],
   "source": [
    "def fact(n):\n",
    "    if n == 1:\n",
    "        return 1\n",
    "    else:\n",
    "        return fact(n-1) * n"
   ]
  },
  {
   "cell_type": "code",
   "execution_count": 46,
   "id": "d531b282-6bd6-4f50-8a7c-bb4b77e420ac",
   "metadata": {},
   "outputs": [
    {
     "data": {
      "text/plain": [
       "3628800"
      ]
     },
     "execution_count": 46,
     "metadata": {},
     "output_type": "execute_result"
    }
   ],
   "source": [
    "fact(10)"
   ]
  },
  {
   "cell_type": "code",
   "execution_count": 47,
   "id": "9f261c98-f16e-47d4-8cfc-226bc08ccbbf",
   "metadata": {},
   "outputs": [],
   "source": [
    "# 피보나치 수열\n",
    "def fib(n):\n",
    "    if n == 0 or n == 1:\n",
    "        return 1\n",
    "    else:\n",
    "        return fib(n-2) + fib(n-1)"
   ]
  },
  {
   "cell_type": "code",
   "execution_count": 48,
   "id": "5fb85e01-66bc-495d-8361-51eb7462e00b",
   "metadata": {},
   "outputs": [
    {
     "data": {
      "text/plain": [
       "8"
      ]
     },
     "execution_count": 48,
     "metadata": {},
     "output_type": "execute_result"
    }
   ],
   "source": [
    "fib(5)"
   ]
  },
  {
   "cell_type": "code",
   "execution_count": null,
   "id": "f770490d-f91c-4d65-af49-8af7d7465ef8",
   "metadata": {},
   "outputs": [],
   "source": []
  }
 ],
 "metadata": {
  "kernelspec": {
   "display_name": "Python 3 (ipykernel)",
   "language": "python",
   "name": "python3"
  },
  "language_info": {
   "codemirror_mode": {
    "name": "ipython",
    "version": 3
   },
   "file_extension": ".py",
   "mimetype": "text/x-python",
   "name": "python",
   "nbconvert_exporter": "python",
   "pygments_lexer": "ipython3",
   "version": "3.13.2"
  }
 },
 "nbformat": 4,
 "nbformat_minor": 5
}
