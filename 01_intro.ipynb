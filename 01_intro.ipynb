{
 "cells": [
  {
   "cell_type": "markdown",
   "id": "3682a3f2-17ba-4a50-913d-529e72bb108c",
   "metadata": {},
   "source": [
    "# 01.intro\n",
    "\n",
    "## shortcut\n",
    "\n",
    "- ctrl + enter : 현재 셀 실헹\n",
    "- shift + enter : 현재 셀 실행 & 아래로 이동\n",
    "- alt + enter : 현재 셀 실행 & 아래에 새로운 셀 추가"
   ]
  },
  {
   "cell_type": "markdown",
   "id": "ccde9194-6cb3-4459-b266-1689a4b924f5",
   "metadata": {},
   "source": [
    "## 주의사항 \n",
    "\n",
    "1. Apple / apple\n",
    "2. git add. / git add .\n",
    "3. message / massage"
   ]
  },
  {
   "cell_type": "markdown",
   "id": "37f73679-616d-4626-8bcf-2e1e0aca594d",
   "metadata": {},
   "source": [
    "# 01. 변수\n",
    "\n",
    "\n",
    "```\n",
    "var_name = value\n",
    "```\n",
    "\n",
    "- 변수이름은 어떤 이름이든 사용가능\n",
    "- 다만 영어, 숫자, _를 이용해서 선언\n",
    "- 키워드는 불가능 "
   ]
  },
  {
   "cell_type": "code",
   "execution_count": 13,
   "id": "cd903d60-5138-4924-83bd-d5bf3e2623f4",
   "metadata": {},
   "outputs": [],
   "source": [
    "a = 100"
   ]
  },
  {
   "cell_type": "code",
   "execution_count": 15,
   "id": "030d1e84-b0aa-48b1-837a-e2909aa88a8a",
   "metadata": {},
   "outputs": [
    {
     "data": {
      "text/plain": [
       "100"
      ]
     },
     "execution_count": 15,
     "metadata": {},
     "output_type": "execute_result"
    }
   ],
   "source": [
    "a"
   ]
  },
  {
   "cell_type": "code",
   "execution_count": 16,
   "id": "9e90dcbc-d633-4635-b5fc-61d46dabda3f",
   "metadata": {},
   "outputs": [
    {
     "data": {
      "text/plain": [
       "['False',\n",
       " 'None',\n",
       " 'True',\n",
       " 'and',\n",
       " 'as',\n",
       " 'assert',\n",
       " 'async',\n",
       " 'await',\n",
       " 'break',\n",
       " 'class',\n",
       " 'continue',\n",
       " 'def',\n",
       " 'del',\n",
       " 'elif',\n",
       " 'else',\n",
       " 'except',\n",
       " 'finally',\n",
       " 'for',\n",
       " 'from',\n",
       " 'global',\n",
       " 'if',\n",
       " 'import',\n",
       " 'in',\n",
       " 'is',\n",
       " 'lambda',\n",
       " 'nonlocal',\n",
       " 'not',\n",
       " 'or',\n",
       " 'pass',\n",
       " 'raise',\n",
       " 'return',\n",
       " 'try',\n",
       " 'while',\n",
       " 'with',\n",
       " 'yield']"
      ]
     },
     "execution_count": 16,
     "metadata": {},
     "output_type": "execute_result"
    }
   ],
   "source": [
    "import keyword\n",
    "keyword.kwlist"
   ]
  },
  {
   "cell_type": "code",
   "execution_count": 25,
   "id": "5e833baf-a12b-4acc-9af0-3687c742d4c6",
   "metadata": {},
   "outputs": [],
   "source": [
    "seoul_dust_rate = 150"
   ]
  },
  {
   "cell_type": "markdown",
   "id": "fa92e2a2-1e01-4909-a2fe-5167671740a0",
   "metadata": {},
   "source": [
    "## 1.1 number"
   ]
  },
  {
   "cell_type": "code",
   "execution_count": 22,
   "id": "405f0b32-2f8a-4b10-a8dd-da2730a3772c",
   "metadata": {},
   "outputs": [],
   "source": [
    "a = 10000"
   ]
  },
  {
   "cell_type": "code",
   "execution_count": 23,
   "id": "129d68a8-6aa1-4542-bc3e-ccdd5e6f1c2e",
   "metadata": {},
   "outputs": [
    {
     "data": {
      "text/plain": [
       "10000"
      ]
     },
     "execution_count": 23,
     "metadata": {},
     "output_type": "execute_result"
    }
   ],
   "source": [
    "a"
   ]
  },
  {
   "cell_type": "code",
   "execution_count": 27,
   "id": "db360f87-27ff-46d8-bc01-58f79f7a53e3",
   "metadata": {},
   "outputs": [
    {
     "data": {
      "text/plain": [
       "int"
      ]
     },
     "execution_count": 27,
     "metadata": {},
     "output_type": "execute_result"
    }
   ],
   "source": [
    "type(a)"
   ]
  },
  {
   "cell_type": "code",
   "execution_count": 28,
   "id": "749db614-152a-4d18-80cf-57067e0becbc",
   "metadata": {},
   "outputs": [],
   "source": [
    "b = 1.1"
   ]
  },
  {
   "cell_type": "code",
   "execution_count": 29,
   "id": "584dc516-b1e0-48f5-be93-a09bae4bc0c4",
   "metadata": {},
   "outputs": [
    {
     "data": {
      "text/plain": [
       "1.1"
      ]
     },
     "execution_count": 29,
     "metadata": {},
     "output_type": "execute_result"
    }
   ],
   "source": [
    "b"
   ]
  },
  {
   "cell_type": "code",
   "execution_count": 30,
   "id": "d86181c5-49e9-4078-b2b8-5d9fad1c718f",
   "metadata": {},
   "outputs": [
    {
     "data": {
      "text/plain": [
       "float"
      ]
     },
     "execution_count": 30,
     "metadata": {},
     "output_type": "execute_result"
    }
   ],
   "source": [
    "type(b)"
   ]
  },
  {
   "cell_type": "code",
   "execution_count": 33,
   "id": "cd46f742-92ec-4543-9086-88fa7bb52a17",
   "metadata": {},
   "outputs": [],
   "source": [
    "c = 1 + 1j"
   ]
  },
  {
   "cell_type": "code",
   "execution_count": 34,
   "id": "b8ce2e1f-9424-4ba5-aade-a5de88b6b267",
   "metadata": {},
   "outputs": [
    {
     "data": {
      "text/plain": [
       "(1+1j)"
      ]
     },
     "execution_count": 34,
     "metadata": {},
     "output_type": "execute_result"
    }
   ],
   "source": [
    "c"
   ]
  },
  {
   "cell_type": "code",
   "execution_count": 32,
   "id": "69407f23-bd3b-4b32-a7a6-2084b93b011b",
   "metadata": {},
   "outputs": [
    {
     "data": {
      "text/plain": [
       "complex"
      ]
     },
     "execution_count": 32,
     "metadata": {},
     "output_type": "execute_result"
    }
   ],
   "source": [
    "type(c)"
   ]
  },
  {
   "cell_type": "markdown",
   "id": "975d018f-c118-4605-8298-63da005c1ba1",
   "metadata": {},
   "source": [
    "## 1.2 boolean"
   ]
  },
  {
   "cell_type": "code",
   "execution_count": 37,
   "id": "238bee19-6b79-4c8a-85b2-00e9be4beeec",
   "metadata": {},
   "outputs": [],
   "source": [
    "a = True"
   ]
  },
  {
   "cell_type": "code",
   "execution_count": 38,
   "id": "02caf435-d38f-4d8e-8fb4-c62808e1af0b",
   "metadata": {},
   "outputs": [
    {
     "data": {
      "text/plain": [
       "True"
      ]
     },
     "execution_count": 38,
     "metadata": {},
     "output_type": "execute_result"
    }
   ],
   "source": [
    "a"
   ]
  },
  {
   "cell_type": "code",
   "execution_count": 39,
   "id": "d96e8d7f-9bdd-4945-b01a-c588d115247b",
   "metadata": {},
   "outputs": [
    {
     "data": {
      "text/plain": [
       "bool"
      ]
     },
     "execution_count": 39,
     "metadata": {},
     "output_type": "execute_result"
    }
   ],
   "source": [
    "type(a)"
   ]
  },
  {
   "cell_type": "code",
   "execution_count": 40,
   "id": "33c55d74-e386-400c-9e31-b07c4c6898f0",
   "metadata": {},
   "outputs": [],
   "source": [
    "b = False"
   ]
  },
  {
   "cell_type": "code",
   "execution_count": 41,
   "id": "f534e1d3-9d05-45e5-b875-104008d9f35a",
   "metadata": {},
   "outputs": [
    {
     "data": {
      "text/plain": [
       "False"
      ]
     },
     "execution_count": 41,
     "metadata": {},
     "output_type": "execute_result"
    }
   ],
   "source": [
    "b"
   ]
  },
  {
   "cell_type": "code",
   "execution_count": 42,
   "id": "15f1a3e1-7110-4204-991f-b24dfd647890",
   "metadata": {},
   "outputs": [
    {
     "data": {
      "text/plain": [
       "bool"
      ]
     },
     "execution_count": 42,
     "metadata": {},
     "output_type": "execute_result"
    }
   ],
   "source": [
    "type(b)"
   ]
  },
  {
   "cell_type": "markdown",
   "id": "f3ec5b22-4d14-4d62-b8dd-a2b716726f9d",
   "metadata": {},
   "source": [
    "## 1.3 string\n",
    "\n",
    "- ', \" 를 이용하여 표현"
   ]
  },
  {
   "cell_type": "code",
   "execution_count": 43,
   "id": "ab450870-e798-4334-9f0e-0640dca24081",
   "metadata": {},
   "outputs": [],
   "source": [
    "a = 'hello'"
   ]
  },
  {
   "cell_type": "code",
   "execution_count": 44,
   "id": "6a0d3302-5561-467a-a603-743aad89db2a",
   "metadata": {},
   "outputs": [],
   "source": [
    "b = \"hi\""
   ]
  },
  {
   "cell_type": "code",
   "execution_count": 45,
   "id": "a6ffc45c-ae9d-4648-bb04-7d94879cc4eb",
   "metadata": {},
   "outputs": [
    {
     "data": {
      "text/plain": [
       "'hello'"
      ]
     },
     "execution_count": 45,
     "metadata": {},
     "output_type": "execute_result"
    }
   ],
   "source": [
    "a"
   ]
  },
  {
   "cell_type": "code",
   "execution_count": 46,
   "id": "e5d0eb91-6a55-46a5-a33c-ad4199122e08",
   "metadata": {},
   "outputs": [
    {
     "data": {
      "text/plain": [
       "'hi'"
      ]
     },
     "execution_count": 46,
     "metadata": {},
     "output_type": "execute_result"
    }
   ],
   "source": [
    "b"
   ]
  },
  {
   "cell_type": "code",
   "execution_count": 47,
   "id": "ca9b8f54-7a23-4b81-8d69-63baf2ea492d",
   "metadata": {},
   "outputs": [
    {
     "name": "stdout",
     "output_type": "stream",
     "text": [
      "hello my name is 'd'\n"
     ]
    }
   ],
   "source": [
    "print(\"hello my name is 'd'\")"
   ]
  },
  {
   "cell_type": "code",
   "execution_count": 48,
   "id": "ff1fe314-111c-441e-a09e-ba421681ad34",
   "metadata": {},
   "outputs": [
    {
     "name": "stdout",
     "output_type": "stream",
     "text": [
      "hello my name is 'd'\n"
     ]
    }
   ],
   "source": [
    "print('hello my name is \\'d\\'')"
   ]
  },
  {
   "cell_type": "code",
   "execution_count": 52,
   "id": "14f9ab13-f59d-41c8-bc9c-36467fa4049b",
   "metadata": {},
   "outputs": [],
   "source": [
    "a = '''\n",
    "hello\n",
    "world\n",
    "hi\n",
    "'''"
   ]
  },
  {
   "cell_type": "code",
   "execution_count": 53,
   "id": "e3e962d3-66f2-4d6e-969f-89da4af30c70",
   "metadata": {},
   "outputs": [
    {
     "data": {
      "text/plain": [
       "'\\nhello\\nworld\\nhi\\n'"
      ]
     },
     "execution_count": 53,
     "metadata": {},
     "output_type": "execute_result"
    }
   ],
   "source": [
    "a"
   ]
  },
  {
   "cell_type": "code",
   "execution_count": 56,
   "id": "f29018ba-f77b-4878-a73d-75325e03052c",
   "metadata": {},
   "outputs": [],
   "source": [
    "a = 10\n",
    "b = '홍길동은 a살입니다.'"
   ]
  },
  {
   "cell_type": "markdown",
   "id": "1f8b1268-155e-448c-a8c1-30f6b89e41ed",
   "metadata": {},
   "source": [
    "# string interpolation\n",
    "\n",
    "- %-formating\n",
    "- str.format()\n",
    "- f-string"
   ]
  },
  {
   "cell_type": "code",
   "execution_count": 58,
   "id": "68a240d2-b029-4ccd-831d-7c88cc0ae84d",
   "metadata": {},
   "outputs": [],
   "source": [
    "age = 10"
   ]
  },
  {
   "cell_type": "code",
   "execution_count": 59,
   "id": "9f2a685b-9c6c-4f6a-9461-d0c9153786da",
   "metadata": {},
   "outputs": [
    {
     "name": "stdout",
     "output_type": "stream",
     "text": [
      "홍길동은 10살입니다.\n"
     ]
    }
   ],
   "source": [
    "print('홍길동은 %s살입니다.' % age)"
   ]
  },
  {
   "cell_type": "code",
   "execution_count": 60,
   "id": "ffda631b-932f-42a3-9ebb-7e10fd725b09",
   "metadata": {},
   "outputs": [
    {
     "name": "stdout",
     "output_type": "stream",
     "text": [
      "홍길동은 10살입니다.\n"
     ]
    }
   ],
   "source": [
    "print('홍길동은 {}살입니다.' .format(age))"
   ]
  },
  {
   "cell_type": "code",
   "execution_count": 62,
   "id": "a403a8ef-2a68-4786-b15b-a0820802f531",
   "metadata": {},
   "outputs": [
    {
     "name": "stdout",
     "output_type": "stream",
     "text": [
      "홍길동은 10살입니다.\n"
     ]
    }
   ],
   "source": [
    "print(f'홍길동은 {age}살입니다.')"
   ]
  },
  {
   "cell_type": "markdown",
   "id": "b7e9cd86-4b3f-4e18-bac3-52447344091e",
   "metadata": {},
   "source": [
    "# 02. 연산자"
   ]
  },
  {
   "cell_type": "markdown",
   "id": "3dd71239-294c-4afc-8865-728d277c6190",
   "metadata": {},
   "source": [
    "## 2.1 산술연산자"
   ]
  },
  {
   "cell_type": "code",
   "execution_count": 68,
   "id": "fffb59b6-290a-4b0a-8d75-f2f1d1bd3920",
   "metadata": {},
   "outputs": [],
   "source": [
    "a = 5\n",
    "b = 2"
   ]
  },
  {
   "cell_type": "code",
   "execution_count": 69,
   "id": "92e72c0d-b691-42b7-be1b-eff3d8573837",
   "metadata": {},
   "outputs": [
    {
     "name": "stdout",
     "output_type": "stream",
     "text": [
      "7\n",
      "3\n",
      "10\n",
      "2.5\n"
     ]
    }
   ],
   "source": [
    "print(a + b)\n",
    "print(a - b)\n",
    "print(a * b)\n",
    "print(a / b)"
   ]
  },
  {
   "cell_type": "code",
   "execution_count": 71,
   "id": "2d045b9b-b429-4819-813d-b5ee43c99d12",
   "metadata": {},
   "outputs": [
    {
     "name": "stdout",
     "output_type": "stream",
     "text": [
      "25\n",
      "2\n",
      "1\n"
     ]
    }
   ],
   "source": [
    "print(a ** b)\n",
    "print(a // b)\n",
    "print(a % b)"
   ]
  },
  {
   "cell_type": "code",
   "execution_count": 72,
   "id": "bc440243-fbae-44aa-b8d0-498ce8062bea",
   "metadata": {},
   "outputs": [
    {
     "name": "stdout",
     "output_type": "stream",
     "text": [
      "(2, 1)\n"
     ]
    }
   ],
   "source": [
    "result = divmod(a, b)\n",
    "print(result)"
   ]
  },
  {
   "cell_type": "markdown",
   "id": "07d5e12f-ec0b-453d-a4c9-970c3b260b1f",
   "metadata": {},
   "source": [
    "## 2.2 비교연산자"
   ]
  },
  {
   "cell_type": "code",
   "execution_count": 73,
   "id": "83df16b4-52bf-4786-a782-52146b8ceb26",
   "metadata": {},
   "outputs": [],
   "source": [
    "a = 5\n",
    "b = 10"
   ]
  },
  {
   "cell_type": "code",
   "execution_count": 78,
   "id": "df4a88b3-d8f4-49de-b547-c2da6fb72686",
   "metadata": {},
   "outputs": [
    {
     "name": "stdout",
     "output_type": "stream",
     "text": [
      "False\n",
      "True\n",
      "False\n",
      "True\n"
     ]
    }
   ],
   "source": [
    "print(a > b)\n",
    "print(a < b)\n",
    "print(a >= b)\n",
    "print(a <= b)"
   ]
  },
  {
   "cell_type": "code",
   "execution_count": 80,
   "id": "380e09a9-4095-464c-9f98-54674c46af24",
   "metadata": {},
   "outputs": [
    {
     "name": "stdout",
     "output_type": "stream",
     "text": [
      "False\n",
      "True\n"
     ]
    }
   ],
   "source": [
    "print(a == b)\n",
    "print(a != b)"
   ]
  },
  {
   "cell_type": "code",
   "execution_count": 82,
   "id": "992ca5b6-b470-4d7e-a7a7-e6de72f2f66b",
   "metadata": {},
   "outputs": [
    {
     "name": "stdout",
     "output_type": "stream",
     "text": [
      "True\n",
      "False\n"
     ]
    }
   ],
   "source": [
    "print('hi' == 'hi')\n",
    "print('hi' == 'Hi')"
   ]
  },
  {
   "cell_type": "markdown",
   "id": "4dc9e579-0500-40f3-9ff9-5e8fab44fbe4",
   "metadata": {},
   "source": [
    "## 2.3 논리연산자\n",
    "- and : 양쪽 모두 True 일 때, True를 반환\n",
    "- or : 양쪽 모두 False 일 때, False를 반환\n",
    "- not : 상태를 부정"
   ]
  },
  {
   "cell_type": "code",
   "execution_count": 83,
   "id": "b8b5af8f-6e30-40c6-a526-324f7df90754",
   "metadata": {},
   "outputs": [
    {
     "name": "stdout",
     "output_type": "stream",
     "text": [
      "True\n",
      "False\n",
      "False\n",
      "False\n"
     ]
    }
   ],
   "source": [
    "print(True and True)\n",
    "print(True and False)\n",
    "print(False and True)\n",
    "print(False and False)"
   ]
  },
  {
   "cell_type": "code",
   "execution_count": 84,
   "id": "5f73957f-e524-4a6d-8cfb-81401b1591cb",
   "metadata": {},
   "outputs": [
    {
     "name": "stdout",
     "output_type": "stream",
     "text": [
      "True\n",
      "True\n",
      "True\n",
      "False\n"
     ]
    }
   ],
   "source": [
    "print(True or True)\n",
    "print(True or False)\n",
    "print(False or True)\n",
    "print(False or False)"
   ]
  },
  {
   "cell_type": "code",
   "execution_count": 85,
   "id": "b83b6141-7749-4ea7-b108-445b9dd75c47",
   "metadata": {},
   "outputs": [
    {
     "name": "stdout",
     "output_type": "stream",
     "text": [
      "False\n"
     ]
    }
   ],
   "source": [
    "a = True\n",
    "print(not a)"
   ]
  },
  {
   "cell_type": "code",
   "execution_count": 90,
   "id": "0a2fd4d2-54da-4ffd-b1f2-b3330a948dc9",
   "metadata": {},
   "outputs": [
    {
     "name": "stdout",
     "output_type": "stream",
     "text": [
      "5\n",
      "0\n",
      "0\n",
      "0\n"
     ]
    }
   ],
   "source": [
    "# 단축평가 \n",
    "print(3 and 5)\n",
    "print(3 and 0)\n",
    "print(0 and 5)\n",
    "print(0 and 0)"
   ]
  },
  {
   "cell_type": "code",
   "execution_count": 91,
   "id": "ef05ee19-cdd9-417c-baa5-01985d69e624",
   "metadata": {},
   "outputs": [
    {
     "name": "stdout",
     "output_type": "stream",
     "text": [
      "3\n",
      "3\n",
      "5\n",
      "0\n"
     ]
    }
   ],
   "source": [
    "print(3 or 5)\n",
    "print(3 or 0)\n",
    "print(0 or 5)\n",
    "print(0 or 0)"
   ]
  },
  {
   "cell_type": "markdown",
   "id": "43460d87-ab48-4d35-bf9f-6768791de266",
   "metadata": {},
   "source": [
    "## 2.4 복합 연산자"
   ]
  },
  {
   "cell_type": "code",
   "execution_count": 92,
   "id": "848c239f-ad30-4765-aec7-ad691f294fa8",
   "metadata": {},
   "outputs": [],
   "source": [
    "a = 2\n",
    "b = 3"
   ]
  },
  {
   "cell_type": "code",
   "execution_count": 95,
   "id": "df0d904d-25cc-4138-8651-1113029d3974",
   "metadata": {},
   "outputs": [],
   "source": [
    "a = a + b\n",
    "a = a - b\n",
    "a = a * b\n",
    "a = a / b"
   ]
  },
  {
   "cell_type": "code",
   "execution_count": 97,
   "id": "06e89a74-f40b-43a9-afe5-f3260b64d78b",
   "metadata": {},
   "outputs": [],
   "source": [
    "a += b\n",
    "a -= b\n",
    "a *= b\n",
    "a /= b\n",
    "a //= b\n",
    "a %= b\n",
    "a **= b"
   ]
  },
  {
   "cell_type": "markdown",
   "id": "417f7de1-99f6-4e52-9753-66a2b5464e85",
   "metadata": {},
   "source": [
    "## 2.5 기타 연산자"
   ]
  },
  {
   "cell_type": "code",
   "execution_count": 99,
   "id": "efedc20b-fb09-43ce-8d98-69ec915c8021",
   "metadata": {},
   "outputs": [],
   "source": [
    "a = 'hi'\n",
    "b = 'hello'"
   ]
  },
  {
   "cell_type": "code",
   "execution_count": 104,
   "id": "d300c056-62de-48db-a650-d19d7a4499d3",
   "metadata": {},
   "outputs": [
    {
     "name": "stdout",
     "output_type": "stream",
     "text": [
      "hihello\n"
     ]
    }
   ],
   "source": [
    "# concatenation\n",
    "print(a + b)"
   ]
  },
  {
   "cell_type": "code",
   "execution_count": 105,
   "id": "7acded71-5172-4082-b94d-f9a2941822bb",
   "metadata": {},
   "outputs": [],
   "source": [
    "a = [1, 2, 3]\n",
    "b = [2, 3, 4]"
   ]
  },
  {
   "cell_type": "code",
   "execution_count": 106,
   "id": "48ccbc75-8894-4082-9763-9198a927239d",
   "metadata": {},
   "outputs": [
    {
     "name": "stdout",
     "output_type": "stream",
     "text": [
      "[1, 2, 3, 2, 3, 4]\n"
     ]
    }
   ],
   "source": [
    "print(a + b)"
   ]
  },
  {
   "cell_type": "code",
   "execution_count": 108,
   "id": "0962328e-3d1b-470d-bf49-306af9954cdc",
   "metadata": {},
   "outputs": [
    {
     "name": "stdout",
     "output_type": "stream",
     "text": [
      "True\n",
      "False\n"
     ]
    }
   ],
   "source": [
    "print(1 in a)\n",
    "print(10 in a)"
   ]
  },
  {
   "cell_type": "code",
   "execution_count": 116,
   "id": "d72994d1-fb82-4d1e-97e7-bcb3bcd0057a",
   "metadata": {},
   "outputs": [],
   "source": [
    "a = 256\n",
    "b = 256"
   ]
  },
  {
   "cell_type": "code",
   "execution_count": 117,
   "id": "baf03e4e-d0a1-4838-9785-31741c0cc872",
   "metadata": {},
   "outputs": [
    {
     "name": "stdout",
     "output_type": "stream",
     "text": [
      "True\n",
      "True\n"
     ]
    }
   ],
   "source": [
    "print(a == b)\n",
    "print(a is b)"
   ]
  },
  {
   "cell_type": "markdown",
   "id": "5ed02edf-bd55-4415-bc58-80acfa21dff4",
   "metadata": {},
   "source": [
    "### 연산자 우선순위\n",
    " 0. ()를 통해서 그룹\n",
    " 1. **\n",
    " 2. 산술연산자(*, /)\n",
    " 3. 산술연산자(+, -)\n",
    " 4. 비교연산자, in, is\n",
    " 5. not\n",
    " 6. and\n",
    " 7. or"
   ]
  },
  {
   "cell_type": "code",
   "execution_count": 118,
   "id": "1efe7e1f-a9e8-4bdc-8183-1678c28b568a",
   "metadata": {},
   "outputs": [
    {
     "name": "stdout",
     "output_type": "stream",
     "text": [
      "-81\n",
      "81\n"
     ]
    }
   ],
   "source": [
    "print(-3 ** 4)\n",
    "print((-3) ** 4)"
   ]
  },
  {
   "cell_type": "markdown",
   "id": "9c1cd1c9-511c-4a78-b8a0-d4f7231f05ac",
   "metadata": {},
   "source": [
    "# 3. 형변환"
   ]
  },
  {
   "cell_type": "markdown",
   "id": "3f7a3227-a241-4a87-918e-4ef17dd01eb3",
   "metadata": {},
   "source": [
    "## 3.1 암시적 형변환"
   ]
  },
  {
   "cell_type": "code",
   "execution_count": 119,
   "id": "45febf44-4706-41e0-ad46-193330432d7c",
   "metadata": {},
   "outputs": [],
   "source": [
    "a = True\n",
    "b = False \n",
    "c = 1"
   ]
  },
  {
   "cell_type": "code",
   "execution_count": 121,
   "id": "00e2d2e9-db0f-4834-b601-d7c7b16f1db3",
   "metadata": {},
   "outputs": [
    {
     "name": "stdout",
     "output_type": "stream",
     "text": [
      "1\n",
      "2\n"
     ]
    }
   ],
   "source": [
    "print(a + b)\n",
    "print(a + c)"
   ]
  },
  {
   "cell_type": "markdown",
   "id": "cecdca94-f7d4-4cc7-9120-2a3a31629c90",
   "metadata": {},
   "source": [
    "## 3.2 명시적 형변환\n",
    "- int()\n",
    "- float()\n",
    "- str()\n",
    "- bool()"
   ]
  },
  {
   "cell_type": "code",
   "execution_count": 127,
   "id": "77cf8dfd-11f8-4492-9587-cc0e3d9d83ac",
   "metadata": {},
   "outputs": [],
   "source": [
    "a = 1\n",
    "b = '반'"
   ]
  },
  {
   "cell_type": "code",
   "execution_count": 128,
   "id": "ec4ba533-08fe-47bd-b151-298012205cbd",
   "metadata": {},
   "outputs": [
    {
     "ename": "TypeError",
     "evalue": "unsupported operand type(s) for +: 'int' and 'str'",
     "output_type": "error",
     "traceback": [
      "\u001b[1;31m---------------------------------------------------------------------------\u001b[0m",
      "\u001b[1;31mTypeError\u001b[0m                                 Traceback (most recent call last)",
      "Cell \u001b[1;32mIn[128], line 1\u001b[0m\n\u001b[1;32m----> 1\u001b[0m \u001b[38;5;28mprint\u001b[39m(\u001b[43ma\u001b[49m\u001b[43m \u001b[49m\u001b[38;5;241;43m+\u001b[39;49m\u001b[43m \u001b[49m\u001b[43mb\u001b[49m)\n",
      "\u001b[1;31mTypeError\u001b[0m: unsupported operand type(s) for +: 'int' and 'str'"
     ]
    }
   ],
   "source": [
    "print(a + b)"
   ]
  },
  {
   "cell_type": "code",
   "execution_count": 129,
   "id": "b81e3aa3-9db4-4a64-9935-9b63b3c65eb0",
   "metadata": {},
   "outputs": [
    {
     "name": "stdout",
     "output_type": "stream",
     "text": [
      "1반\n"
     ]
    }
   ],
   "source": [
    "print(str(a) + b)"
   ]
  },
  {
   "cell_type": "code",
   "execution_count": 133,
   "id": "46f55ead-612a-467a-b3fa-7869b2934542",
   "metadata": {},
   "outputs": [
    {
     "name": "stdout",
     "output_type": "stream",
     "text": [
      "3\n",
      "<class 'str'>\n",
      "3\n",
      "<class 'int'>\n"
     ]
    }
   ],
   "source": [
    "a = '3'\n",
    "print(a)\n",
    "print(type(a))\n",
    "\n",
    "b = int(a)\n",
    "print(b)\n",
    "print(type(b))"
   ]
  },
  {
   "cell_type": "code",
   "execution_count": 134,
   "id": "7fa5eb47-8476-4743-82b5-ee3307d73d07",
   "metadata": {},
   "outputs": [
    {
     "ename": "ValueError",
     "evalue": "invalid literal for int() with base 10: 'apple'",
     "output_type": "error",
     "traceback": [
      "\u001b[1;31m---------------------------------------------------------------------------\u001b[0m",
      "\u001b[1;31mValueError\u001b[0m                                Traceback (most recent call last)",
      "Cell \u001b[1;32mIn[134], line 2\u001b[0m\n\u001b[0;32m      1\u001b[0m c \u001b[38;5;241m=\u001b[39m \u001b[38;5;124m'\u001b[39m\u001b[38;5;124mapple\u001b[39m\u001b[38;5;124m'\u001b[39m\n\u001b[1;32m----> 2\u001b[0m d \u001b[38;5;241m=\u001b[39m \u001b[38;5;28;43mint\u001b[39;49m\u001b[43m(\u001b[49m\u001b[43mc\u001b[49m\u001b[43m)\u001b[49m\n",
      "\u001b[1;31mValueError\u001b[0m: invalid literal for int() with base 10: 'apple'"
     ]
    }
   ],
   "source": [
    "c = 'apple'\n",
    "d = int(c)"
   ]
  },
  {
   "cell_type": "code",
   "execution_count": 135,
   "id": "0593a0e1-b2fd-4662-a594-d15adc256abc",
   "metadata": {},
   "outputs": [
    {
     "name": "stdout",
     "output_type": "stream",
     "text": [
      "True\n",
      "False\n",
      "True\n"
     ]
    }
   ],
   "source": [
    "a = 1\n",
    "b = 0\n",
    "c = -123\n",
    "print(bool(a))\n",
    "print(bool(b))\n",
    "print(bool(c))"
   ]
  },
  {
   "cell_type": "code",
   "execution_count": 136,
   "id": "fbcd8f4d-119e-42b2-938b-69c88d2607b9",
   "metadata": {},
   "outputs": [
    {
     "name": "stdout",
     "output_type": "stream",
     "text": [
      "False\n",
      "True\n"
     ]
    }
   ],
   "source": [
    "print(bool([]))\n",
    "print(bool([1, 2, 3]))"
   ]
  }
 ],
 "metadata": {
  "kernelspec": {
   "display_name": "Python 3 (ipykernel)",
   "language": "python",
   "name": "python3"
  },
  "language_info": {
   "codemirror_mode": {
    "name": "ipython",
    "version": 3
   },
   "file_extension": ".py",
   "mimetype": "text/x-python",
   "name": "python",
   "nbconvert_exporter": "python",
   "pygments_lexer": "ipython3",
   "version": "3.13.2"
  }
 },
 "nbformat": 4,
 "nbformat_minor": 5
}
