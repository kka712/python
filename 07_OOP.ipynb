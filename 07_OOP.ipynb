{
 "cells": [
  {
   "cell_type": "markdown",
   "id": "52811c57-85ef-44db-924c-31fedda33e95",
   "metadata": {},
   "source": [
    "# 객체지향 프로그래밍 (OOP)\n",
    "\n",
    "- 클래스(class) : 같은 종류의 집단에 속하는 `속성`과 `행동`을 `정의`한 것\n",
    "- 속성(attribute) : 클래스/인스턴스가 가지고 있는 데이터/값\n",
    "- 행동(method) : 클래스/인스턴스가 가지고 있는 함수/기능\n",
    "- 인스턴스(instance) : 클래스를 실제로 메모리상에 할당한 것"
   ]
  },
  {
   "cell_type": "code",
   "execution_count": 5,
   "id": "16550022-6a08-450c-8605-0e7cffaece71",
   "metadata": {},
   "outputs": [],
   "source": [
    "number = 1 + 2j"
   ]
  },
  {
   "cell_type": "code",
   "execution_count": 6,
   "id": "19c488f1-4464-4fb1-abdb-7f50aa699aa6",
   "metadata": {},
   "outputs": [
    {
     "name": "stdout",
     "output_type": "stream",
     "text": [
      "<class 'complex'>\n"
     ]
    }
   ],
   "source": [
    "print(type((number)))"
   ]
  },
  {
   "cell_type": "code",
   "execution_count": 7,
   "id": "13114c23-ae8b-42ff-90ee-43fcfc0ab80e",
   "metadata": {},
   "outputs": [
    {
     "name": "stdout",
     "output_type": "stream",
     "text": [
      "1.0\n",
      "2.0\n"
     ]
    }
   ],
   "source": [
    "print(number.real) # 실수, 값에 접근해서 () 없음\n",
    "print(number.imag) # 허수"
   ]
  },
  {
   "cell_type": "code",
   "execution_count": 8,
   "id": "32cfac60-a4c4-4764-a36a-7a5b365c696d",
   "metadata": {},
   "outputs": [],
   "source": [
    "numbers = [1, 2, 3]"
   ]
  },
  {
   "cell_type": "code",
   "execution_count": 9,
   "id": "a2f47d4b-6f86-4180-ab1a-f077853f677d",
   "metadata": {},
   "outputs": [
    {
     "name": "stdout",
     "output_type": "stream",
     "text": [
      "<class 'list'>\n"
     ]
    }
   ],
   "source": [
    "print(type(numbers))"
   ]
  },
  {
   "cell_type": "code",
   "execution_count": 10,
   "id": "f0075fa2-3a9b-490d-8389-d8a228363180",
   "metadata": {},
   "outputs": [
    {
     "name": "stdout",
     "output_type": "stream",
     "text": [
      "[3, 2, 1]\n"
     ]
    }
   ],
   "source": [
    "numbers.reverse() # 기능에 접근하기 때문에 () 있음 \n",
    "print(numbers)"
   ]
  },
  {
   "cell_type": "code",
   "execution_count": 11,
   "id": "c189201b-cb2e-4069-9c7a-228fd9ed7ac1",
   "metadata": {},
   "outputs": [
    {
     "name": "stdout",
     "output_type": "stream",
     "text": [
      "010-1234-1234가 010-1111-1111한테 전화거는 중\n"
     ]
    }
   ],
   "source": [
    "number = '010-1234-1234'\n",
    "power = True\n",
    "phone_book = {\n",
    "    'kim': '010-1111-1111',\n",
    "    'park': '010-2222-2222',\n",
    "}\n",
    "\n",
    "def call(from_num, to_num):\n",
    "    print(f'{from_num}가 {to_num}한테 전화거는 중')\n",
    "\n",
    "call(number, phone_book['kim'])"
   ]
  },
  {
   "cell_type": "code",
   "execution_count": 12,
   "id": "423aca9f-c963-4ec3-8f81-e12558f38824",
   "metadata": {},
   "outputs": [
    {
     "name": "stdout",
     "output_type": "stream",
     "text": [
      "010-4321-4321가 010-1111-1111한테 전화거는 중\n"
     ]
    }
   ],
   "source": [
    "number_2 = '010-4321-4321'\n",
    "power_2 = True\n",
    "phone_book_2 = {\n",
    "    'kim': '010-1111-1111',\n",
    "    'park': '010-2222-2222',\n",
    "}\n",
    "\n",
    "def call(from_num, to_num):\n",
    "    print(f'{from_num}가 {to_num}한테 전화거는 중')\n",
    "\n",
    "call(number_2, phone_book_2['kim'])"
   ]
  },
  {
   "cell_type": "markdown",
   "id": "ae9855ae-ff81-4738-aa46-44b702c79ce4",
   "metadata": {},
   "source": [
    "## class\n",
    "\n",
    "- 클래스 선언/정의 # 각 단어의 시작점에 대문자로 작성\n",
    "```python\n",
    "class ClassName():\n",
    "    attribute1 = value1\n",
    "    attribute2 = value2\n",
    "    ...\n",
    "\n",
    "    def method_name1(self):\n",
    "        code\n",
    "    def method_name2(self):\n",
    "        code\n",
    "    ...\n",
    "```\n",
    "\n",
    "\n",
    "\n",
    "- 인스턴스화 (클래스 실행)\n",
    "```python\n",
    "c = ClassName()\n",
    "```"
   ]
  },
  {
   "cell_type": "code",
   "execution_count": 13,
   "id": "c00b494c-f994-4cba-9f52-949893f6bf94",
   "metadata": {},
   "outputs": [],
   "source": [
    "# 선언\n",
    "class MyClass():\n",
    "    name = 'kim'\n",
    "\n",
    "    def hello(self):\n",
    "        return 'hihihihihihihi'"
   ]
  },
  {
   "cell_type": "code",
   "execution_count": 14,
   "id": "69ac1350-73a5-43fa-ad18-e6ba253c91e1",
   "metadata": {},
   "outputs": [],
   "source": [
    "# 인스턴스화\n",
    "m = MyClass()"
   ]
  },
  {
   "cell_type": "code",
   "execution_count": 15,
   "id": "cc5631a6-22c4-48c8-8640-7037f11d1c31",
   "metadata": {},
   "outputs": [
    {
     "name": "stdout",
     "output_type": "stream",
     "text": [
      "<class '__main__.MyClass'>\n"
     ]
    }
   ],
   "source": [
    "print(type(m))"
   ]
  },
  {
   "cell_type": "code",
   "execution_count": 16,
   "id": "5144118d-2ca5-4827-9927-fcbc1fe9c319",
   "metadata": {},
   "outputs": [
    {
     "name": "stdout",
     "output_type": "stream",
     "text": [
      "kim\n",
      "hihihihihihihi\n"
     ]
    }
   ],
   "source": [
    "print(m.name)\n",
    "print(m.hello())"
   ]
  },
  {
   "cell_type": "code",
   "execution_count": 17,
   "id": "5017f460-dc32-4a40-8612-a8b0218b9e40",
   "metadata": {},
   "outputs": [
    {
     "name": "stdout",
     "output_type": "stream",
     "text": [
      "kim\n",
      "hihihihihihihi\n"
     ]
    }
   ],
   "source": [
    "m2 = MyClass()\n",
    "print(m2.name)\n",
    "print(m2.hello())"
   ]
  },
  {
   "cell_type": "code",
   "execution_count": 18,
   "id": "d2dc5699-2a94-422c-9cd0-975874a21865",
   "metadata": {},
   "outputs": [
    {
     "name": "stdout",
     "output_type": "stream",
     "text": [
      "kim\n",
      "park\n"
     ]
    }
   ],
   "source": [
    "m2.name = 'park'\n",
    "\n",
    "print(m.name)\n",
    "print(m2.name)"
   ]
  },
  {
   "cell_type": "code",
   "execution_count": 19,
   "id": "5bafa6b1-3d9c-419c-a5e6-20d7bff42432",
   "metadata": {},
   "outputs": [],
   "source": [
    "class Phone():\n",
    "    power = False\n",
    "    number = '010-0000-0000'\n",
    "    book = {}\n",
    "    model = ''\n",
    "\n",
    "    def on(self): # class 안의 정의에는 항상 self 넣음\n",
    "        if self.power == False:\n",
    "            self.power = True\n",
    "\n",
    "    def off(self):\n",
    "        if self.power == True:\n",
    "            self.power = False\n",
    "\n",
    "    def call(self, target):\n",
    "        if self.power == True:\n",
    "            print(f'{self.number}가 {target.number}한테 전하거는 중...')\n",
    "        else:\n",
    "            print('핸드폰이 꺼져있습니다.')"
   ]
  },
  {
   "cell_type": "code",
   "execution_count": 20,
   "id": "ab9036e0-38e8-4f11-859c-bfdbdd5e8953",
   "metadata": {},
   "outputs": [],
   "source": [
    "my_phone = Phone()\n",
    "your_phone = Phone()"
   ]
  },
  {
   "cell_type": "code",
   "execution_count": 21,
   "id": "3e39085c-72e8-4e08-8c85-37b4872d67fc",
   "metadata": {},
   "outputs": [
    {
     "data": {
      "text/plain": [
       "'010-0000-0000'"
      ]
     },
     "execution_count": 21,
     "metadata": {},
     "output_type": "execute_result"
    }
   ],
   "source": [
    "my_phone.number"
   ]
  },
  {
   "cell_type": "code",
   "execution_count": 22,
   "id": "efe775d8-a23e-4f43-bd84-f4384b860e4b",
   "metadata": {},
   "outputs": [
    {
     "data": {
      "text/plain": [
       "'010-0000-0000'"
      ]
     },
     "execution_count": 22,
     "metadata": {},
     "output_type": "execute_result"
    }
   ],
   "source": [
    "your_phone.number"
   ]
  },
  {
   "cell_type": "code",
   "execution_count": 23,
   "id": "7673af29-e455-4a9f-a042-908daf297182",
   "metadata": {},
   "outputs": [
    {
     "name": "stdout",
     "output_type": "stream",
     "text": [
      "010-1234-1234\n"
     ]
    }
   ],
   "source": [
    "my_phone.number = '010-1234-1234'\n",
    "print(my_phone.number)"
   ]
  },
  {
   "cell_type": "code",
   "execution_count": 24,
   "id": "6143ab42-88ad-4d9a-b74e-f108d6d0af9a",
   "metadata": {},
   "outputs": [
    {
     "data": {
      "text/plain": [
       "False"
      ]
     },
     "execution_count": 24,
     "metadata": {},
     "output_type": "execute_result"
    }
   ],
   "source": [
    "my_phone.power"
   ]
  },
  {
   "cell_type": "code",
   "execution_count": 25,
   "id": "773ed856-37c1-43d0-a74f-4c6b2fbce678",
   "metadata": {},
   "outputs": [],
   "source": [
    "my_phone.on()"
   ]
  },
  {
   "cell_type": "code",
   "execution_count": 26,
   "id": "b9296c51-d479-4b7c-9ed2-504fafa17d3f",
   "metadata": {},
   "outputs": [
    {
     "data": {
      "text/plain": [
       "True"
      ]
     },
     "execution_count": 26,
     "metadata": {},
     "output_type": "execute_result"
    }
   ],
   "source": [
    "my_phone.power"
   ]
  },
  {
   "cell_type": "code",
   "execution_count": 27,
   "id": "101df47e-94a9-4d87-a6af-2bab9e06782f",
   "metadata": {},
   "outputs": [
    {
     "data": {
      "text/plain": [
       "False"
      ]
     },
     "execution_count": 27,
     "metadata": {},
     "output_type": "execute_result"
    }
   ],
   "source": [
    "your_phone.power"
   ]
  },
  {
   "cell_type": "code",
   "execution_count": 28,
   "id": "95e2e0b7-ee96-422f-a71f-a883bcb3db19",
   "metadata": {},
   "outputs": [
    {
     "name": "stdout",
     "output_type": "stream",
     "text": [
      "010-1234-1234가 010-0000-0000한테 전하거는 중...\n"
     ]
    }
   ],
   "source": [
    "my_phone.call(your_phone)"
   ]
  },
  {
   "cell_type": "code",
   "execution_count": 29,
   "id": "777890a2-b3f9-41b9-b145-538c5c1ca007",
   "metadata": {},
   "outputs": [
    {
     "name": "stdout",
     "output_type": "stream",
     "text": [
      "핸드폰이 꺼져있습니다.\n"
     ]
    }
   ],
   "source": [
    "your_phone.call(my_phone)"
   ]
  },
  {
   "cell_type": "code",
   "execution_count": 30,
   "id": "939d38e3-306e-4ecf-8e2d-58c113228cac",
   "metadata": {},
   "outputs": [],
   "source": [
    "class Person():\n",
    "    name = ''\n",
    "    gender = ''\n",
    "    age = 0\n",
    "    height = 0\n",
    "\n",
    "    def greeting(self):\n",
    "        print(f'안녕하세요. 나는 {self.name}입니다.')\n",
    "\n",
    "    def grow(self):\n",
    "        self.age += 1"
   ]
  },
  {
   "cell_type": "code",
   "execution_count": 31,
   "id": "c7ca9a2a-a182-4c30-8363-eecd7850316c",
   "metadata": {},
   "outputs": [],
   "source": [
    "p1 = Person()\n",
    "p2 = Person()"
   ]
  },
  {
   "cell_type": "code",
   "execution_count": 32,
   "id": "0dd3f0ec-ce07-49f0-8e07-3c57abb6c0ca",
   "metadata": {},
   "outputs": [
    {
     "name": "stdout",
     "output_type": "stream",
     "text": [
      " \n"
     ]
    }
   ],
   "source": [
    "print(p1.name, p2.name)"
   ]
  },
  {
   "cell_type": "code",
   "execution_count": 33,
   "id": "2da962a4-65bc-4129-84ee-c41c4b9ffbd4",
   "metadata": {},
   "outputs": [],
   "source": [
    "p1.name = 'hong'\n",
    "p2.name = 'kim'\n",
    "\n",
    "p1.gender = 'F'\n",
    "p2.gender = 'M'\n",
    "\n",
    "p1.age = 20\n",
    "p2.age = 30\n",
    "\n",
    "p1.height = 170\n",
    "p2.height = 180"
   ]
  },
  {
   "cell_type": "code",
   "execution_count": 34,
   "id": "e31da03f-907f-4364-bc7f-79d0ad5c09e0",
   "metadata": {},
   "outputs": [
    {
     "name": "stdout",
     "output_type": "stream",
     "text": [
      "안녕하세요. 나는 hong입니다.\n"
     ]
    }
   ],
   "source": [
    "p1.greeting()"
   ]
  },
  {
   "cell_type": "code",
   "execution_count": 35,
   "id": "defdcb3d-2c33-4b13-8837-fa6ae9e604f1",
   "metadata": {},
   "outputs": [
    {
     "name": "stdout",
     "output_type": "stream",
     "text": [
      "안녕하세요. 나는 kim입니다.\n"
     ]
    }
   ],
   "source": [
    "p2.greeting()"
   ]
  },
  {
   "cell_type": "code",
   "execution_count": 36,
   "id": "17a351b1-a969-4273-a06a-2e609f4600ce",
   "metadata": {},
   "outputs": [
    {
     "name": "stdout",
     "output_type": "stream",
     "text": [
      "안녕하세요. 나는 hong입니다.\n",
      "안녕하세요. 나는 hong입니다.\n"
     ]
    }
   ],
   "source": [
    "Person.greeting(p1) # ()안에 p1이 없으면 뭘 지정한지 몰라서 오류발생\n",
    "p1.greeting()"
   ]
  },
  {
   "cell_type": "markdown",
   "id": "54b46d7e-f022-4560-aebc-156b9302a9af",
   "metadata": {},
   "source": [
    "## 생성자, 소멸자\n",
    "\n",
    "```python\n",
    "class MyClass():\n",
    "\n",
    "    def __init__(self):\n",
    "        pass\n",
    "    def __del__(self):\n",
    "        pass\n",
    "```"
   ]
  },
  {
   "cell_type": "code",
   "execution_count": 37,
   "id": "b428d9b0-b018-4c08-af74-fac64bee02f7",
   "metadata": {},
   "outputs": [],
   "source": [
    "class Person():\n",
    "    name = ''\n",
    "\n",
    "    def __init__(self, name):\n",
    "        self.name = name\n",
    "        print('생성됨')\n",
    "\n",
    "    def __del__(self):\n",
    "        print('소멸됨')"
   ]
  },
  {
   "cell_type": "code",
   "execution_count": 38,
   "id": "31b2ec9f-555a-4e6e-809d-7b7ea8585db3",
   "metadata": {},
   "outputs": [
    {
     "name": "stdout",
     "output_type": "stream",
     "text": [
      "생성됨\n",
      "생성됨\n"
     ]
    }
   ],
   "source": [
    "p1 = Person('kim') # => Person.__init__(p1, 'kim')\n",
    "p2 = Person('park')"
   ]
  },
  {
   "cell_type": "code",
   "execution_count": 39,
   "id": "9c4a7ae7-4090-4034-83b0-b96e04536eac",
   "metadata": {},
   "outputs": [
    {
     "name": "stdout",
     "output_type": "stream",
     "text": [
      "소멸됨\n"
     ]
    }
   ],
   "source": [
    "del p1"
   ]
  },
  {
   "cell_type": "code",
   "execution_count": 40,
   "id": "e8c50a93-4286-4e85-a9dd-2bc4df04e9de",
   "metadata": {},
   "outputs": [
    {
     "name": "stdout",
     "output_type": "stream",
     "text": [
      "소멸됨\n"
     ]
    }
   ],
   "source": [
    "del p2"
   ]
  },
  {
   "cell_type": "code",
   "execution_count": 41,
   "id": "821f0f2e-a16b-45d1-90e1-e9c37ee12693",
   "metadata": {},
   "outputs": [],
   "source": [
    "class Circle():\n",
    "    pi = 3.14\n",
    "\n",
    "    \n",
    "    def __init__(self, r, x=0, y=0): # 기본값 인자 데이터를 넣지않으면 0,0\n",
    "        self.r = r\n",
    "        self.x = x\n",
    "        self.y = y\n",
    "\n",
    "    def info(self):\n",
    "        print(f'반지름: {self.r}, 중심점: {self.x}, {self.y}')\n",
    "\n",
    "    def area(self):\n",
    "        return self.r ** 2 * self.pi\n",
    "\n",
    "    def round(self):\n",
    "        return self.r * 2 * self.pi\n",
    "\n",
    "    def move(self, x, y):\n",
    "        self.x = x\n",
    "        self.y = y"
   ]
  },
  {
   "cell_type": "code",
   "execution_count": 42,
   "id": "beeaf438-856b-4492-aaf1-358b6c726635",
   "metadata": {},
   "outputs": [],
   "source": [
    "c1 = Circle(5)\n",
    "c2 = Circle(3, 1, 1)"
   ]
  },
  {
   "cell_type": "code",
   "execution_count": 43,
   "id": "680198f4-559c-4bea-b97b-8b95b84e5e0e",
   "metadata": {},
   "outputs": [
    {
     "name": "stdout",
     "output_type": "stream",
     "text": [
      "반지름: 5, 중심점: 0, 0\n",
      "반지름: 3, 중심점: 1, 1\n"
     ]
    }
   ],
   "source": [
    "c1.info()\n",
    "c2.info()"
   ]
  },
  {
   "cell_type": "code",
   "execution_count": 44,
   "id": "b03c011b-cef1-4666-9e49-df58b5f49dca",
   "metadata": {},
   "outputs": [
    {
     "name": "stdout",
     "output_type": "stream",
     "text": [
      "78.5\n",
      "28.26\n"
     ]
    }
   ],
   "source": [
    "print(c1.area())\n",
    "print(c2.area())"
   ]
  },
  {
   "cell_type": "code",
   "execution_count": 45,
   "id": "cf913e01-e51c-4fc9-a59c-d37877556e97",
   "metadata": {},
   "outputs": [
    {
     "name": "stdout",
     "output_type": "stream",
     "text": [
      "31.400000000000002\n",
      "18.84\n"
     ]
    }
   ],
   "source": [
    "print(c1.round())\n",
    "print(c2.round())"
   ]
  },
  {
   "cell_type": "code",
   "execution_count": 46,
   "id": "0b6c2e3e-edc4-4837-a5db-6acc2b58bb08",
   "metadata": {},
   "outputs": [
    {
     "name": "stdout",
     "output_type": "stream",
     "text": [
      "반지름: 5, 중심점: 100, 100\n"
     ]
    }
   ],
   "source": [
    "c1.move(100, 100)\n",
    "c1.info()"
   ]
  },
  {
   "cell_type": "code",
   "execution_count": 47,
   "id": "a505b7b3-111b-45ee-9069-07b28039039f",
   "metadata": {},
   "outputs": [],
   "source": [
    "class Point():\n",
    "    def __init__(self, x, y):\n",
    "        self.x = x\n",
    "        self.y = y\n",
    "\n",
    "    def info(self):\n",
    "        print(f'{self.x}, {slef.y}')"
   ]
  },
  {
   "cell_type": "code",
   "execution_count": 48,
   "id": "6f4cec9d-0c34-407f-b7a2-d5770d2348e5",
   "metadata": {},
   "outputs": [],
   "source": [
    "p1 = Point(1, 1)\n",
    "p2 = Point(2, 3)"
   ]
  },
  {
   "cell_type": "code",
   "execution_count": 49,
   "id": "42fcc7a0-0b9a-4000-9990-ebaabe2b2189",
   "metadata": {},
   "outputs": [],
   "source": [
    "class Circle():\n",
    "    def __init__(self, r, point):\n",
    "        self.r = r\n",
    "        self.point = point\n",
    "\n",
    "    def info(self):\n",
    "        point = self.point # 소문자는 모두 변수라고 생각, 처음 생성할때와 인스턴스화할때만 대문자로 사용\n",
    "        x = point.x\n",
    "        y = point.y\n",
    "        print(f'반지름: {self.r} 중심점: {x}, {y}')"
   ]
  },
  {
   "cell_type": "code",
   "execution_count": 50,
   "id": "404af9f3-3936-4fe4-92a3-2d2a29517e0a",
   "metadata": {},
   "outputs": [],
   "source": [
    "c1 = Circle(10, p1)\n",
    "c2 = Circle(5, p2)"
   ]
  },
  {
   "cell_type": "code",
   "execution_count": 51,
   "id": "8f6d4b91-62af-4366-8bba-8c3ee29c7e6f",
   "metadata": {},
   "outputs": [
    {
     "name": "stdout",
     "output_type": "stream",
     "text": [
      "반지름: 10 중심점: 1, 1\n",
      "반지름: 5 중심점: 2, 3\n"
     ]
    }
   ],
   "source": [
    "c1.info()\n",
    "c2.info()"
   ]
  },
  {
   "cell_type": "markdown",
   "id": "e7dffa90-af7e-4dd4-8ddd-997922787a6b",
   "metadata": {},
   "source": [
    "### 클래스 변수 / 인스턴스 변수\n",
    "\n",
    "- 클래스 변수 : 클래스 선언 블록 최상단에 위치\n",
    "- 인스턴스 변수 : 인스턴스 내부에서 생성한 변수\n",
    "\n",
    "```python\n",
    "class MyClass():\n",
    "    class_variable = '클래스변수'\n",
    "\n",
    "    def __init__(self):\n",
    "        self.instance_variavle = '인스턴스변수'\n",
    "```"
   ]
  },
  {
   "cell_type": "code",
   "execution_count": 52,
   "id": "d518c0d0-06e4-415b-9fc7-9db3a5eadc40",
   "metadata": {},
   "outputs": [],
   "source": [
    "class Person():\n",
    "    name = 'hong'\n",
    "    age = 10\n",
    "    \n",
    "    def __init__(self, name):\n",
    "        self.name = name"
   ]
  },
  {
   "cell_type": "code",
   "execution_count": 53,
   "id": "7f18e5bd-d82f-449e-8967-5e8632bff6e3",
   "metadata": {},
   "outputs": [
    {
     "name": "stdout",
     "output_type": "stream",
     "text": [
      "oh\n",
      "10\n"
     ]
    }
   ],
   "source": [
    "p1 = Person('oh')\n",
    "print(p1.name)\n",
    "print(p1.age)"
   ]
  },
  {
   "cell_type": "markdown",
   "id": "295357ac-730e-47e4-a390-0729e7cb8060",
   "metadata": {},
   "source": [
    "### 클래스 메소드 / 인스턴스 메소드 / 스태틱메소드\n",
    "\n",
    "```python\n",
    "class MyClass():\n",
    "    \n",
    "    def instance_method(self):\n",
    "        pass\n",
    "\n",
    "    @classmethod\n",
    "    def class_method(cls):\n",
    "        pass\n",
    "\n",
    "    @staticmethod\n",
    "    def static_method():\n",
    "        pass\n",
    "```"
   ]
  },
  {
   "cell_type": "code",
   "execution_count": 54,
   "id": "834d0563-5ec5-4a15-a4d1-b41f998844d2",
   "metadata": {},
   "outputs": [],
   "source": [
    "class MyClass():\n",
    "    def instance_method(self):\n",
    "        print(self)\n",
    "\n",
    "    @classmethod\n",
    "    def class_method(cls):\n",
    "        print(cls)\n",
    "\n",
    "    @staticmethod\n",
    "    def static_method():\n",
    "        print('static')"
   ]
  },
  {
   "cell_type": "code",
   "execution_count": 55,
   "id": "a327bb9b-8af6-4397-b8fb-83fe55e432ef",
   "metadata": {},
   "outputs": [
    {
     "name": "stdout",
     "output_type": "stream",
     "text": [
      "<__main__.MyClass object at 0x000002686F525A90>\n",
      "<__main__.MyClass object at 0x000002686F525A90>\n"
     ]
    }
   ],
   "source": [
    "mc = MyClass()\n",
    "mc.instance_method() # => self\n",
    "print(mc)"
   ]
  },
  {
   "cell_type": "code",
   "execution_count": 56,
   "id": "ca60f3b4-40da-42d9-b2f2-2ee13410b718",
   "metadata": {},
   "outputs": [
    {
     "name": "stdout",
     "output_type": "stream",
     "text": [
      "<class '__main__.MyClass'>\n",
      "<class '__main__.MyClass'>\n"
     ]
    }
   ],
   "source": [
    "mc.class_method() # => cls\n",
    "print(MyClass)"
   ]
  },
  {
   "cell_type": "code",
   "execution_count": 57,
   "id": "61a92300-43d5-449e-a54c-8c99727b0b94",
   "metadata": {},
   "outputs": [
    {
     "name": "stdout",
     "output_type": "stream",
     "text": [
      "static\n"
     ]
    }
   ],
   "source": [
    "mc.static_method()"
   ]
  },
  {
   "cell_type": "code",
   "execution_count": 58,
   "id": "9db67c8c-6d37-40de-97cf-d5af08dc8181",
   "metadata": {},
   "outputs": [],
   "source": [
    "class Puppy():\n",
    "    num_of_puppy = 0\n",
    "    \n",
    "    def __init__(self, name):\n",
    "        self.name = name\n",
    "        Puppy.num_of_puppy += 1\n",
    "\n",
    "    @classmethod\n",
    "    def info(cls):\n",
    "        print(f'현재 강아지는 {cls.num_of_puppy}마리입니다.')\n",
    "\n",
    "\n",
    "    def bark(self):\n",
    "        print(f'멍멍! {self.name}입니다.')\n",
    "\n",
    "    @staticmethod\n",
    "    def bark2():\n",
    "        print('왈왈!')"
   ]
  },
  {
   "cell_type": "code",
   "execution_count": 59,
   "id": "8f229603-6d10-46b0-92da-bcb8521b1d09",
   "metadata": {},
   "outputs": [
    {
     "name": "stdout",
     "output_type": "stream",
     "text": [
      "현재 강아지는 3마리입니다.\n"
     ]
    }
   ],
   "source": [
    "p1 = Puppy('초코')\n",
    "p2 = Puppy('구름')\n",
    "p3 = Puppy('인절미')\n",
    "\n",
    "Puppy.info()"
   ]
  },
  {
   "cell_type": "code",
   "execution_count": 60,
   "id": "9e8011cd-f140-48ab-a7ad-531c8f78035f",
   "metadata": {},
   "outputs": [
    {
     "name": "stdout",
     "output_type": "stream",
     "text": [
      "멍멍! 초코입니다.\n",
      "멍멍! 구름입니다.\n",
      "멍멍! 인절미입니다.\n"
     ]
    }
   ],
   "source": [
    "p1.bark()\n",
    "p2.bark()\n",
    "p3.bark()"
   ]
  },
  {
   "cell_type": "markdown",
   "id": "b9480798-7f9c-4183-a9c5-c9c61ebbb4bc",
   "metadata": {},
   "source": [
    "## 상속"
   ]
  },
  {
   "cell_type": "code",
   "execution_count": 61,
   "id": "8a29ae37-0ebd-43df-ae1d-eadf1a676847",
   "metadata": {},
   "outputs": [],
   "source": [
    "class Person():\n",
    "    ident = ''\n",
    "\n",
    "    def __init__(self, name):\n",
    "        self.name = name\n",
    "\n",
    "    def greeting(self):\n",
    "        print(f'안녕하세요. {self.name}입니다.')"
   ]
  },
  {
   "cell_type": "code",
   "execution_count": 62,
   "id": "75620ee7-b97f-4edf-8bf6-8ec4a48fdd3c",
   "metadata": {},
   "outputs": [],
   "source": [
    "p1 = Person('hong')\n",
    "p2 = Person('kim')"
   ]
  },
  {
   "cell_type": "code",
   "execution_count": 63,
   "id": "9d8d9548-dd89-437f-8488-e1a5d75348ad",
   "metadata": {},
   "outputs": [
    {
     "name": "stdout",
     "output_type": "stream",
     "text": [
      "안녕하세요. hong입니다.\n",
      "안녕하세요. kim입니다.\n"
     ]
    }
   ],
   "source": [
    "p1.greeting()\n",
    "p2.greeting()"
   ]
  },
  {
   "cell_type": "code",
   "execution_count": 64,
   "id": "0292130b-4646-48a6-94ff-35b2a04feda0",
   "metadata": {},
   "outputs": [
    {
     "data": {
      "text/plain": [
       "'999999-1111111'"
      ]
     },
     "execution_count": 64,
     "metadata": {},
     "output_type": "execute_result"
    }
   ],
   "source": [
    "p1.ident = '999999-1111111'\n",
    "p1.ident"
   ]
  },
  {
   "cell_type": "code",
   "execution_count": 65,
   "id": "3e6c1603-7782-4333-81f3-0ed899c60003",
   "metadata": {},
   "outputs": [],
   "source": [
    "class Soldier(Person):\n",
    "    def greeting(self):\n",
    "        print(f'충성! {self.name}입니다.')\n",
    "    # ident = ''\n",
    "\n",
    "    # def __init__(self, name):\n",
    "    #    self.name = name\n",
    "\n",
    "    # def greeting(self):\n",
    "    #   print(f'안녕하세요. {self.name}입니다.')"
   ]
  },
  {
   "cell_type": "code",
   "execution_count": 66,
   "id": "b872fe16-5b38-491c-aa39-c3d080d4fc33",
   "metadata": {},
   "outputs": [
    {
     "name": "stdout",
     "output_type": "stream",
     "text": [
      "충성! 굳건이입니다.\n"
     ]
    }
   ],
   "source": [
    "s1 = Soldier('굳건이')\n",
    "s1.greeting()\n",
    "# s1.soldier_greeting()"
   ]
  },
  {
   "cell_type": "code",
   "execution_count": 67,
   "id": "a11d40d8-2c34-4d29-8565-37832edf6c0a",
   "metadata": {},
   "outputs": [
    {
     "data": {
      "text/plain": [
       "'25-12341234'"
      ]
     },
     "execution_count": 67,
     "metadata": {},
     "output_type": "execute_result"
    }
   ],
   "source": [
    "s1.ident = '25-12341234'\n",
    "s1.ident"
   ]
  },
  {
   "cell_type": "code",
   "execution_count": 68,
   "id": "64e07885-4eba-4870-ad8f-2524c86e3ad6",
   "metadata": {},
   "outputs": [],
   "source": [
    "class Person():\n",
    "    def __init__(self, name, age, email, phone):\n",
    "        self.name = name\n",
    "        self.age = age\n",
    "        self.email = email\n",
    "        self.phone = phone\n",
    "\n",
    "class Student(Person):\n",
    "     def __init__(self, name, age, email, phone, student_id):\n",
    "         super().__init__(name, age, email, phone)\n",
    "         self.student_id = student_id\n"
   ]
  },
  {
   "cell_type": "markdown",
   "id": "e740e7d4-bfb8-4a8c-86d1-4b22b02b1ce8",
   "metadata": {},
   "source": [
    "### 다중상속"
   ]
  },
  {
   "cell_type": "code",
   "execution_count": 69,
   "id": "c568761f-2d81-4062-9af7-e085b1d1c5c1",
   "metadata": {},
   "outputs": [],
   "source": [
    "class Person():\n",
    "    def __init__(self, name):\n",
    "        self.name = name\n",
    "\n",
    "    def breath(self):\n",
    "        print('후하')"
   ]
  },
  {
   "cell_type": "code",
   "execution_count": 70,
   "id": "51d1b65f-cf7c-4933-8f9a-d28d06914dec",
   "metadata": {},
   "outputs": [],
   "source": [
    "class Mom(Person):\n",
    "    gene = 'xx'\n",
    "\n",
    "    def swim(self):\n",
    "        print('어푸어푸')"
   ]
  },
  {
   "cell_type": "code",
   "execution_count": 71,
   "id": "dbb330df-0b35-4d9c-993f-c0f9609e2a4b",
   "metadata": {},
   "outputs": [],
   "source": [
    "class Dad(Person):\n",
    "    gene = 'xy'\n",
    "\n",
    "    def run(self):\n",
    "        print('다다다')"
   ]
  },
  {
   "cell_type": "code",
   "execution_count": 72,
   "id": "3d6e261c-d007-4158-8328-f63466f27df7",
   "metadata": {},
   "outputs": [],
   "source": [
    "class Child(Mom, Dad):\n",
    "    pass"
   ]
  },
  {
   "cell_type": "code",
   "execution_count": 73,
   "id": "fa6c04b4-774b-48b9-853a-adecdb31b673",
   "metadata": {},
   "outputs": [
    {
     "name": "stdout",
     "output_type": "stream",
     "text": [
      "후하\n",
      "다다다\n",
      "어푸어푸\n"
     ]
    }
   ],
   "source": [
    "c = Child('금쪽이')\n",
    "c.breath()\n",
    "c.run()\n",
    "c.swim()"
   ]
  },
  {
   "cell_type": "code",
   "execution_count": 74,
   "id": "1d49720f-cc43-43f5-bcbd-6fcaf90c83d2",
   "metadata": {},
   "outputs": [
    {
     "data": {
      "text/plain": [
       "'xx'"
      ]
     },
     "execution_count": 74,
     "metadata": {},
     "output_type": "execute_result"
    }
   ],
   "source": [
    "c.gene"
   ]
  },
  {
   "cell_type": "code",
   "execution_count": 75,
   "id": "80c98278-d025-49ca-86b2-d6f83733ee59",
   "metadata": {},
   "outputs": [
    {
     "name": "stdout",
     "output_type": "stream",
     "text": [
      "배틀 시작!\n",
      "5이(가) 파이리에게 15의 데미지를 입혔습니다!\n",
      "5이(가) 꼬부기에게 15의 데미지를 입혔습니다!\n",
      "꼬부기 - 체력: 35\n",
      "파이리 - 체력: 35\n",
      "----------\n",
      "5이(가) 파이리에게 5의 데미지를 입혔습니다!\n",
      "5이(가) 꼬부기에게 15의 데미지를 입혔습니다!\n",
      "꼬부기 - 체력: 20\n",
      "파이리 - 체력: 30\n",
      "----------\n",
      "5이(가) 파이리에게 10의 데미지를 입혔습니다!\n",
      "5이(가) 꼬부기에게 5의 데미지를 입혔습니다!\n",
      "꼬부기 - 체력: 15\n",
      "파이리 - 체력: 20\n",
      "----------\n",
      "5이(가) 파이리에게 10의 데미지를 입혔습니다!\n",
      "5이(가) 꼬부기에게 5의 데미지를 입혔습니다!\n",
      "꼬부기 - 체력: 10\n",
      "파이리 - 체력: 10\n",
      "----------\n",
      "5이(가) 파이리에게 15의 데미지를 입혔습니다!\n",
      "파이리가 쓰러졌습니다! 꼬부기 승리!\n"
     ]
    }
   ],
   "source": [
    "import random\n",
    "\n",
    "# 포켓몬 클래스 정의\n",
    "class Pokemon:\n",
    "    def __init__(self, name, level=5):\n",
    "        self.name = name       # 포켓몬 이름\n",
    "        self.level = level     # 포켓몬 레벨 (기본값 5)\n",
    "        self.hp = level * 10   # 체력은 레벨에 따라 결정 (예: 레벨 5면 체력 50)\n",
    "\n",
    "    def attack(self, opponent):\n",
    "        # 간단한 공격: 데미지는 레벨과 1부터 3사이의 랜덤 숫자를 곱해 결정합니다.\n",
    "        damage = self.level * random.randint(1, 3)\n",
    "        print(f'{self.level}이(가) {opponent.name}에게 {damage}의 데미지를 입혔습니다!')\n",
    "        opponent.hp -= damage\n",
    "\n",
    "    def is_knocked_out(self):\n",
    "        # 체력이 0 이하이면 쓰러진 것으로 간주\n",
    "        return self.hp <= 0\n",
    "\n",
    "    def status(self):\n",
    "        # 현재 상태(이름과 체력)를 출력하는 메서드\n",
    "        print(f'{self.name} - 체력: {self.hp}')\n",
    "\n",
    "# 포켓몬 객체 생성 (타입 정보를 제거)\n",
    "kobugi = Pokemon('꼬부기', level=5)\n",
    "pairi = Pokemon('파이리', level=5)\n",
    "\n",
    "# 배틀 시뮬레이션 시작\n",
    "print('배틀 시작!')\n",
    "while True:\n",
    "    # 꼬부기가 파이리를 공격\n",
    "    kobugi.attack(pairi)\n",
    "    if pairi.is_knocked_out():\n",
    "        print(f'{pairi.name}가 쓰러졌습니다! {kobugi.name} 승리!')\n",
    "        break\n",
    "\n",
    "    #파이리가 꼬부기를 공격\n",
    "    pairi.attack(kobugi)\n",
    "    if kobugi.is_knocked_out():\n",
    "        print(f'{kobugi.name}가 쓰러졌습니다! {pairi.name} 승리!')\n",
    "        break\n",
    "\n",
    "    # 각 포켓몬의 현재 체력을 출력\n",
    "    kobugi.status()\n",
    "    pairi.status()\n",
    "    print('----------')"
   ]
  },
  {
   "cell_type": "code",
   "execution_count": 76,
   "id": "1f65c62a-765b-41f0-a18f-ebf6c22a8f1d",
   "metadata": {},
   "outputs": [
    {
     "name": "stdout",
     "output_type": "stream",
     "text": [
      "경기 시작!\n",
      "레알마드리드가 맨시티에게 3골을 기록합니다!\n",
      "맨시티가 먹힙니다! 레알마드리드 승리!\n"
     ]
    }
   ],
   "source": [
    "\n",
    "\n",
    "\n",
    "class Soccer:\n",
    "    def __init__(self, team, score):\n",
    "        self.team = team\n",
    "        self.score = score\n",
    "        \n",
    "       \n",
    "\n",
    "    def attack(self, opponent):\n",
    "        \n",
    "        score = self.score + 1\n",
    "        print(f'{self.team}가 {opponent.team}에게 {score}골을 기록합니다!')\n",
    "        \n",
    "        \n",
    "\n",
    "\n",
    "    def defet(self):\n",
    "        \n",
    "        return self.score > 0\n",
    "\n",
    "    def status(self):\n",
    "        \n",
    "        print(f'{self.team} - 득점: {self.score}')\n",
    "\n",
    "\n",
    "realmadrid = Soccer('레알마드리드', score=2)\n",
    "mancity = Soccer('맨시티', score=1)\n",
    "\n",
    "\n",
    "print('경기 시작!')\n",
    "while True:\n",
    "    \n",
    "    realmadrid.attack(mancity)\n",
    "    if mancity.defet():\n",
    "        print(f'{mancity.team}가 먹힙니다! {realmadrid.team} 승리!')\n",
    "        break\n",
    "\n",
    "    \n",
    "    mancity.attack(realmadrid)\n",
    "    if realmadrid.defet():\n",
    "        print(f'{realmadrid.team}가 먹힙니다! {mancity.team} 승리!')\n",
    "        break\n",
    "\n",
    "    \n",
    "    realmadrid.status()\n",
    "    mancity.status()\n",
    "    print('----------')"
   ]
  },
  {
   "cell_type": "code",
   "execution_count": 81,
   "id": "11ce7da3-d369-4d97-b342-d857910b1b4b",
   "metadata": {},
   "outputs": [
    {
     "name": "stdout",
     "output_type": "stream",
     "text": [
      "배틀 시작!\n",
      "진이 폴에게 20의 데미지를 입혔습니다!\n",
      "폴이 진에게 50의 데미지를 입혔습니다!\n",
      "진 - 체력: 450\n",
      "폴 - 체력: 480\n",
      "----------\n",
      "진이 폴에게 10의 데미지를 입혔습니다!\n",
      "폴이 진에게 20의 데미지를 입혔습니다!\n",
      "진 - 체력: 430\n",
      "폴 - 체력: 470\n",
      "----------\n",
      "진이 폴에게 20의 데미지를 입혔습니다!\n",
      "폴이 진에게 50의 데미지를 입혔습니다!\n",
      "진 - 체력: 380\n",
      "폴 - 체력: 450\n",
      "----------\n",
      "진이 폴에게 20의 데미지를 입혔습니다!\n",
      "폴이 진에게 20의 데미지를 입혔습니다!\n",
      "진 - 체력: 360\n",
      "폴 - 체력: 430\n",
      "----------\n",
      "진이 폴에게 30의 데미지를 입혔습니다!\n",
      "폴이 진에게 50의 데미지를 입혔습니다!\n",
      "진 - 체력: 310\n",
      "폴 - 체력: 400\n",
      "----------\n",
      "진이 폴에게 10의 데미지를 입혔습니다!\n",
      "폴이 진에게 10의 데미지를 입혔습니다!\n",
      "진 - 체력: 300\n",
      "폴 - 체력: 390\n",
      "----------\n",
      "진이 폴에게 10의 데미지를 입혔습니다!\n",
      "폴이 진에게 20의 데미지를 입혔습니다!\n",
      "진 - 체력: 280\n",
      "폴 - 체력: 380\n",
      "----------\n",
      "진이 폴에게 30의 데미지를 입혔습니다!\n",
      "폴이 진에게 40의 데미지를 입혔습니다!\n",
      "진 - 체력: 240\n",
      "폴 - 체력: 350\n",
      "----------\n",
      "진이 폴에게 40의 데미지를 입혔습니다!\n",
      "폴이 진에게 50의 데미지를 입혔습니다!\n",
      "진 - 체력: 190\n",
      "폴 - 체력: 310\n",
      "----------\n",
      "진이 폴에게 20의 데미지를 입혔습니다!\n",
      "폴이 진에게 40의 데미지를 입혔습니다!\n",
      "진 - 체력: 150\n",
      "폴 - 체력: 290\n",
      "----------\n",
      "진이 폴에게 50의 데미지를 입혔습니다!\n",
      "폴이 진에게 40의 데미지를 입혔습니다!\n",
      "진 - 체력: 110\n",
      "폴 - 체력: 240\n",
      "----------\n",
      "진이 폴에게 10의 데미지를 입혔습니다!\n",
      "폴이 진에게 30의 데미지를 입혔습니다!\n",
      "진 - 체력: 80\n",
      "폴 - 체력: 230\n",
      "----------\n",
      "진이 폴에게 30의 데미지를 입혔습니다!\n",
      "폴이 진에게 10의 데미지를 입혔습니다!\n",
      "진 - 체력: 70\n",
      "폴 - 체력: 200\n",
      "----------\n",
      "진이 폴에게 40의 데미지를 입혔습니다!\n",
      "폴이 진에게 10의 데미지를 입혔습니다!\n",
      "진 - 체력: 60\n",
      "폴 - 체력: 160\n",
      "----------\n",
      "진이 폴에게 20의 데미지를 입혔습니다!\n",
      "폴이 진에게 10의 데미지를 입혔습니다!\n",
      "진 - 체력: 50\n",
      "폴 - 체력: 140\n",
      "----------\n",
      "진이 폴에게 50의 데미지를 입혔습니다!\n",
      "폴이 진에게 40의 데미지를 입혔습니다!\n",
      "진 - 체력: 10\n",
      "폴 - 체력: 90\n",
      "----------\n",
      "진이 폴에게 50의 데미지를 입혔습니다!\n",
      "폴이 진에게 40의 데미지를 입혔습니다!\n",
      "진가 쓰러졌습니다! 폴 승리!\n"
     ]
    }
   ],
   "source": [
    "import random\n",
    "\n",
    "\n",
    "class IronFist:\n",
    "    def __init__(self, name, level=10):\n",
    "        self.name = name       \n",
    "        self.level = level     \n",
    "        self.hp = level * 50   \n",
    "\n",
    "    def attack(self, opponent):\n",
    "        \n",
    "        damage = self.level * random.randint(1, 5)\n",
    "        print(f'{self.name}이 {opponent.name}에게 {damage}의 데미지를 입혔습니다!')\n",
    "        opponent.hp -= damage\n",
    "\n",
    "    def is_knocked_out(self):\n",
    "        \n",
    "        return self.hp <= 0\n",
    "\n",
    "    def status(self):\n",
    "        \n",
    "        print(f'{self.name} - 체력: {self.hp}')\n",
    "\n",
    "\n",
    "jin = IronFist('진', level=10)\n",
    "paul = IronFist('폴', level=10)\n",
    "\n",
    "\n",
    "print('배틀 시작!')\n",
    "while True:\n",
    "   \n",
    "    jin.attack(paul)\n",
    "    if paul.is_knocked_out():\n",
    "        print(f'{paul.name}이 쓰러졌습니다! {jin.name} 승리!')\n",
    "        break\n",
    "\n",
    "    \n",
    "    paul.attack(jin)\n",
    "    if jin.is_knocked_out():\n",
    "        print(f'{jin.name}가 쓰러졌습니다! {paul.name} 승리!')\n",
    "        break\n",
    "\n",
    "    \n",
    "    jin.status()\n",
    "    paul.status()\n",
    "    print('----------')"
   ]
  },
  {
   "cell_type": "code",
   "execution_count": 90,
   "id": "61767c62-9a9b-4186-a6fb-f77b1c68d096",
   "metadata": {},
   "outputs": [
    {
     "name": "stdout",
     "output_type": "stream",
     "text": [
      "경기 시작!\n",
      "골드가 실버에게 15의 데미지를 입혔습니다!\n",
      "실버가 골드에게 15의 데미지를 입혔습니다!\n",
      "골드 - 남은 인원: 30\n",
      "실버 - 남은 인원: 30\n",
      "----------\n",
      "골드가 실버에게 75의 데미지를 입혔습니다!\n",
      "실버가 쓰러졌습니다! 골드 승리!\n"
     ]
    }
   ],
   "source": [
    "import random\n",
    "\n",
    "# 포켓몬 클래스 정의\n",
    "class DodgeBall:\n",
    "    def __init__(self, team, person=15):\n",
    "        self.team = team       # 포켓몬 이름\n",
    "        self.person = person     # 포켓몬 레벨 (기본값 5)\n",
    "        self.number = person * 3   # 체력은 레벨에 따라 결정 (예: 레벨 5면 체력 50)\n",
    "\n",
    "    def attack(self, opponent):\n",
    "        # 간단한 공격: 데미지는 레벨과 1부터 3사이의 랜덤 숫자를 곱해 결정합니다.\n",
    "        damage = self.person * random.randint(1, 5)\n",
    "        print(f'{self.team}가 {opponent.team}에게 {damage}의 데미지를 입혔습니다!')\n",
    "        opponent.number -= damage\n",
    "\n",
    "    def is_knocked_out(self):\n",
    "        # 체력이 0 이하이면 쓰러진 것으로 간주\n",
    "        return self.number <= 0\n",
    "\n",
    "    def status(self):\n",
    "        # 현재 상태(이름과 체력)를 출력하는 메서드\n",
    "        print(f'{self.team} - 남은 인원: {self.number}')\n",
    "\n",
    "# 포켓몬 객체 생성 (타입 정보를 제거)\n",
    "gold = DodgeBall('골드', person=15)\n",
    "silver = DodgeBall('실버', person=15)\n",
    "\n",
    "# 배틀 시뮬레이션 시작\n",
    "print('경기 시작!')\n",
    "while True:\n",
    "    # 꼬부기가 파이리를 공격\n",
    "    gold.attack(silver)\n",
    "    if silver.is_knocked_out():\n",
    "        print(f'{silver.team}가 쓰러졌습니다! {gold.team} 승리!')\n",
    "        break\n",
    "\n",
    "    #파이리가 꼬부기를 공격\n",
    "    silver.attack(gold)\n",
    "    if gold.is_knocked_out():\n",
    "        print(f'{gold.team}가 쓰러졌습니다! {silver.team} 승리!')\n",
    "        break\n",
    "\n",
    "    # 각 포켓몬의 현재 체력을 출력\n",
    "    gold.status()\n",
    "    silver.status()\n",
    "    print('----------')"
   ]
  },
  {
   "cell_type": "code",
   "execution_count": null,
   "id": "e28f12ed-679e-4923-bb30-4278a2148d2a",
   "metadata": {},
   "outputs": [],
   "source": []
  },
  {
   "cell_type": "code",
   "execution_count": null,
   "id": "3cc45f49-fbd9-482c-8ab0-c18e6fd2543e",
   "metadata": {},
   "outputs": [],
   "source": []
  }
 ],
 "metadata": {
  "kernelspec": {
   "display_name": "Python 3 (ipykernel)",
   "language": "python",
   "name": "python3"
  },
  "language_info": {
   "codemirror_mode": {
    "name": "ipython",
    "version": 3
   },
   "file_extension": ".py",
   "mimetype": "text/x-python",
   "name": "python",
   "nbconvert_exporter": "python",
   "pygments_lexer": "ipython3",
   "version": "3.13.2"
  }
 },
 "nbformat": 4,
 "nbformat_minor": 5
}
